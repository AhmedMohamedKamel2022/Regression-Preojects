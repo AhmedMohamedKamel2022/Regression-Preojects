{
 "cells": [
  {
   "cell_type": "markdown",
   "id": "b12cfb40",
   "metadata": {},
   "source": [
    "# Import Libraries"
   ]
  },
  {
   "cell_type": "code",
   "execution_count": 1,
   "id": "8271a96a",
   "metadata": {},
   "outputs": [],
   "source": [
    "import numpy as np\n",
    "import pandas as pd\n",
    "import seaborn as sns\n",
    "import matplotlib.pyplot as plt\n",
    "\n",
    "from sklearn.model_selection import train_test_split\n",
    "from sklearn.preprocessing import StandardScaler\n",
    "from sklearn.metrics import r2_score\n",
    "\n",
    "from sklearn.linear_model import LinearRegression\n",
    "from sklearn.neighbors import KNeighborsRegressor\n",
    "from sklearn.tree import DecisionTreeRegressor\n",
    "from sklearn.ensemble import RandomForestRegressor\n",
    "from sklearn.svm import SVR\n",
    "from xgboost import XGBRegressor\n",
    "\n",
    "import warnings\n",
    "warnings.simplefilter(action='ignore')\n",
    "sns.set(rc={'figure.figsize': [7, 7]}, font_scale=1.2)\n",
    "%matplotlib inline"
   ]
  },
  {
   "cell_type": "markdown",
   "id": "d182e30b",
   "metadata": {},
   "source": [
    "# Load Data"
   ]
  },
  {
   "cell_type": "code",
   "execution_count": 2,
   "id": "498cb6be",
   "metadata": {},
   "outputs": [
    {
     "data": {
      "text/html": [
       "<div>\n",
       "<style scoped>\n",
       "    .dataframe tbody tr th:only-of-type {\n",
       "        vertical-align: middle;\n",
       "    }\n",
       "\n",
       "    .dataframe tbody tr th {\n",
       "        vertical-align: top;\n",
       "    }\n",
       "\n",
       "    .dataframe thead th {\n",
       "        text-align: right;\n",
       "    }\n",
       "</style>\n",
       "<table border=\"1\" class=\"dataframe\">\n",
       "  <thead>\n",
       "    <tr style=\"text-align: right;\">\n",
       "      <th></th>\n",
       "      <th>datetime</th>\n",
       "      <th>season</th>\n",
       "      <th>holiday</th>\n",
       "      <th>workingday</th>\n",
       "      <th>weather</th>\n",
       "      <th>temp</th>\n",
       "      <th>humidity</th>\n",
       "      <th>windspeed</th>\n",
       "      <th>casual</th>\n",
       "      <th>registered</th>\n",
       "      <th>rented_bikes_count</th>\n",
       "    </tr>\n",
       "  </thead>\n",
       "  <tbody>\n",
       "    <tr>\n",
       "      <th>0</th>\n",
       "      <td>2011-01-01 00:00:00</td>\n",
       "      <td>Spring</td>\n",
       "      <td>0.0</td>\n",
       "      <td>0.0</td>\n",
       "      <td>Clear</td>\n",
       "      <td>9.84</td>\n",
       "      <td>81.0</td>\n",
       "      <td>NaN</td>\n",
       "      <td>3</td>\n",
       "      <td>13</td>\n",
       "      <td>16</td>\n",
       "    </tr>\n",
       "    <tr>\n",
       "      <th>1</th>\n",
       "      <td>2011-01-01 01:00:00</td>\n",
       "      <td>Spring</td>\n",
       "      <td>0.0</td>\n",
       "      <td>0.0</td>\n",
       "      <td>NaN</td>\n",
       "      <td>9.02</td>\n",
       "      <td>80.0</td>\n",
       "      <td>0.0</td>\n",
       "      <td>8</td>\n",
       "      <td>32</td>\n",
       "      <td>40</td>\n",
       "    </tr>\n",
       "    <tr>\n",
       "      <th>2</th>\n",
       "      <td>2011-01-01 02:00:00</td>\n",
       "      <td>Spring</td>\n",
       "      <td>0.0</td>\n",
       "      <td>0.0</td>\n",
       "      <td>Clear</td>\n",
       "      <td>9.02</td>\n",
       "      <td>NaN</td>\n",
       "      <td>0.0</td>\n",
       "      <td>5</td>\n",
       "      <td>27</td>\n",
       "      <td>32</td>\n",
       "    </tr>\n",
       "    <tr>\n",
       "      <th>3</th>\n",
       "      <td>2011-01-01 03:00:00</td>\n",
       "      <td>Spring</td>\n",
       "      <td>0.0</td>\n",
       "      <td>0.0</td>\n",
       "      <td>Clear</td>\n",
       "      <td>9.84</td>\n",
       "      <td>75.0</td>\n",
       "      <td>0.0</td>\n",
       "      <td>3</td>\n",
       "      <td>10</td>\n",
       "      <td>13</td>\n",
       "    </tr>\n",
       "    <tr>\n",
       "      <th>4</th>\n",
       "      <td>2011-01-01 04:00:00</td>\n",
       "      <td>NaN</td>\n",
       "      <td>0.0</td>\n",
       "      <td>0.0</td>\n",
       "      <td>Clear</td>\n",
       "      <td>NaN</td>\n",
       "      <td>75.0</td>\n",
       "      <td>NaN</td>\n",
       "      <td>0</td>\n",
       "      <td>1</td>\n",
       "      <td>1</td>\n",
       "    </tr>\n",
       "  </tbody>\n",
       "</table>\n",
       "</div>"
      ],
      "text/plain": [
       "              datetime  season  holiday  workingday weather  temp  humidity  \\\n",
       "0  2011-01-01 00:00:00  Spring      0.0         0.0   Clear  9.84      81.0   \n",
       "1  2011-01-01 01:00:00  Spring      0.0         0.0     NaN  9.02      80.0   \n",
       "2  2011-01-01 02:00:00  Spring      0.0         0.0   Clear  9.02       NaN   \n",
       "3  2011-01-01 03:00:00  Spring      0.0         0.0   Clear  9.84      75.0   \n",
       "4  2011-01-01 04:00:00     NaN      0.0         0.0   Clear   NaN      75.0   \n",
       "\n",
       "   windspeed  casual  registered  rented_bikes_count  \n",
       "0        NaN       3          13                  16  \n",
       "1        0.0       8          32                  40  \n",
       "2        0.0       5          27                  32  \n",
       "3        0.0       3          10                  13  \n",
       "4        NaN       0           1                   1  "
      ]
     },
     "execution_count": 2,
     "metadata": {},
     "output_type": "execute_result"
    }
   ],
   "source": [
    "df =pd.read_csv('bikes.csv')\n",
    "df.head()"
   ]
  },
  {
   "cell_type": "markdown",
   "id": "24eb6f78",
   "metadata": {},
   "source": [
    "# Information About Data"
   ]
  },
  {
   "cell_type": "markdown",
   "id": "5cb0e762",
   "metadata": {},
   "source": [
    "### Exploratory Data Analysis"
   ]
  },
  {
   "cell_type": "code",
   "execution_count": 3,
   "id": "c3838b35",
   "metadata": {},
   "outputs": [
    {
     "name": "stdout",
     "output_type": "stream",
     "text": [
      "<class 'pandas.core.frame.DataFrame'>\n",
      "RangeIndex: 10886 entries, 0 to 10885\n",
      "Data columns (total 11 columns):\n",
      " #   Column              Non-Null Count  Dtype  \n",
      "---  ------              --------------  -----  \n",
      " 0   datetime            10886 non-null  object \n",
      " 1   season              10672 non-null  object \n",
      " 2   holiday             10030 non-null  float64\n",
      " 3   workingday          9388 non-null   float64\n",
      " 4   weather             8746 non-null   object \n",
      " 5   temp                8104 non-null   float64\n",
      " 6   humidity            7462 non-null   float64\n",
      " 7   windspeed           6820 non-null   float64\n",
      " 8   casual              10886 non-null  int64  \n",
      " 9   registered          10886 non-null  int64  \n",
      " 10  rented_bikes_count  10886 non-null  int64  \n",
      "dtypes: float64(5), int64(3), object(3)\n",
      "memory usage: 935.6+ KB\n"
     ]
    }
   ],
   "source": [
    "df.info()"
   ]
  },
  {
   "cell_type": "markdown",
   "id": "ec01f169",
   "metadata": {},
   "source": [
    "### Statistical information"
   ]
  },
  {
   "cell_type": "code",
   "execution_count": 4,
   "id": "2e254fda",
   "metadata": {},
   "outputs": [
    {
     "data": {
      "text/html": [
       "<div>\n",
       "<style scoped>\n",
       "    .dataframe tbody tr th:only-of-type {\n",
       "        vertical-align: middle;\n",
       "    }\n",
       "\n",
       "    .dataframe tbody tr th {\n",
       "        vertical-align: top;\n",
       "    }\n",
       "\n",
       "    .dataframe thead th {\n",
       "        text-align: right;\n",
       "    }\n",
       "</style>\n",
       "<table border=\"1\" class=\"dataframe\">\n",
       "  <thead>\n",
       "    <tr style=\"text-align: right;\">\n",
       "      <th></th>\n",
       "      <th>holiday</th>\n",
       "      <th>workingday</th>\n",
       "      <th>temp</th>\n",
       "      <th>humidity</th>\n",
       "      <th>windspeed</th>\n",
       "      <th>casual</th>\n",
       "      <th>registered</th>\n",
       "      <th>rented_bikes_count</th>\n",
       "    </tr>\n",
       "  </thead>\n",
       "  <tbody>\n",
       "    <tr>\n",
       "      <th>count</th>\n",
       "      <td>10030.000000</td>\n",
       "      <td>9388.000000</td>\n",
       "      <td>8104.000000</td>\n",
       "      <td>7462.000000</td>\n",
       "      <td>6820.000000</td>\n",
       "      <td>10886.000000</td>\n",
       "      <td>10886.000000</td>\n",
       "      <td>10886.000000</td>\n",
       "    </tr>\n",
       "    <tr>\n",
       "      <th>mean</th>\n",
       "      <td>0.029113</td>\n",
       "      <td>0.678206</td>\n",
       "      <td>20.317665</td>\n",
       "      <td>61.790673</td>\n",
       "      <td>12.708806</td>\n",
       "      <td>36.021955</td>\n",
       "      <td>155.552177</td>\n",
       "      <td>191.574132</td>\n",
       "    </tr>\n",
       "    <tr>\n",
       "      <th>std</th>\n",
       "      <td>0.168131</td>\n",
       "      <td>0.467189</td>\n",
       "      <td>7.818568</td>\n",
       "      <td>19.262084</td>\n",
       "      <td>8.131154</td>\n",
       "      <td>49.960477</td>\n",
       "      <td>151.039033</td>\n",
       "      <td>181.144454</td>\n",
       "    </tr>\n",
       "    <tr>\n",
       "      <th>min</th>\n",
       "      <td>0.000000</td>\n",
       "      <td>0.000000</td>\n",
       "      <td>0.820000</td>\n",
       "      <td>0.000000</td>\n",
       "      <td>0.000000</td>\n",
       "      <td>0.000000</td>\n",
       "      <td>0.000000</td>\n",
       "      <td>1.000000</td>\n",
       "    </tr>\n",
       "    <tr>\n",
       "      <th>25%</th>\n",
       "      <td>0.000000</td>\n",
       "      <td>0.000000</td>\n",
       "      <td>13.940000</td>\n",
       "      <td>47.000000</td>\n",
       "      <td>7.001500</td>\n",
       "      <td>4.000000</td>\n",
       "      <td>36.000000</td>\n",
       "      <td>42.000000</td>\n",
       "    </tr>\n",
       "    <tr>\n",
       "      <th>50%</th>\n",
       "      <td>0.000000</td>\n",
       "      <td>1.000000</td>\n",
       "      <td>20.500000</td>\n",
       "      <td>62.000000</td>\n",
       "      <td>12.998000</td>\n",
       "      <td>17.000000</td>\n",
       "      <td>118.000000</td>\n",
       "      <td>145.000000</td>\n",
       "    </tr>\n",
       "    <tr>\n",
       "      <th>75%</th>\n",
       "      <td>0.000000</td>\n",
       "      <td>1.000000</td>\n",
       "      <td>26.240000</td>\n",
       "      <td>77.000000</td>\n",
       "      <td>16.997900</td>\n",
       "      <td>49.000000</td>\n",
       "      <td>222.000000</td>\n",
       "      <td>284.000000</td>\n",
       "    </tr>\n",
       "    <tr>\n",
       "      <th>max</th>\n",
       "      <td>1.000000</td>\n",
       "      <td>1.000000</td>\n",
       "      <td>41.000000</td>\n",
       "      <td>100.000000</td>\n",
       "      <td>56.996900</td>\n",
       "      <td>367.000000</td>\n",
       "      <td>886.000000</td>\n",
       "      <td>977.000000</td>\n",
       "    </tr>\n",
       "  </tbody>\n",
       "</table>\n",
       "</div>"
      ],
      "text/plain": [
       "            holiday   workingday         temp     humidity    windspeed  \\\n",
       "count  10030.000000  9388.000000  8104.000000  7462.000000  6820.000000   \n",
       "mean       0.029113     0.678206    20.317665    61.790673    12.708806   \n",
       "std        0.168131     0.467189     7.818568    19.262084     8.131154   \n",
       "min        0.000000     0.000000     0.820000     0.000000     0.000000   \n",
       "25%        0.000000     0.000000    13.940000    47.000000     7.001500   \n",
       "50%        0.000000     1.000000    20.500000    62.000000    12.998000   \n",
       "75%        0.000000     1.000000    26.240000    77.000000    16.997900   \n",
       "max        1.000000     1.000000    41.000000   100.000000    56.996900   \n",
       "\n",
       "             casual    registered  rented_bikes_count  \n",
       "count  10886.000000  10886.000000        10886.000000  \n",
       "mean      36.021955    155.552177          191.574132  \n",
       "std       49.960477    151.039033          181.144454  \n",
       "min        0.000000      0.000000            1.000000  \n",
       "25%        4.000000     36.000000           42.000000  \n",
       "50%       17.000000    118.000000          145.000000  \n",
       "75%       49.000000    222.000000          284.000000  \n",
       "max      367.000000    886.000000          977.000000  "
      ]
     },
     "execution_count": 4,
     "metadata": {},
     "output_type": "execute_result"
    }
   ],
   "source": [
    "df.describe()"
   ]
  },
  {
   "cell_type": "markdown",
   "id": "1256bae9",
   "metadata": {},
   "source": [
    "### Check Duplication Value"
   ]
  },
  {
   "cell_type": "code",
   "execution_count": 5,
   "id": "e77c4e9f",
   "metadata": {},
   "outputs": [
    {
     "data": {
      "text/plain": [
       "False"
      ]
     },
     "execution_count": 5,
     "metadata": {},
     "output_type": "execute_result"
    }
   ],
   "source": [
    "df.duplicated().values.any()"
   ]
  },
  {
   "cell_type": "markdown",
   "id": "8526854b",
   "metadata": {},
   "source": [
    "### Check Missing Values"
   ]
  },
  {
   "cell_type": "code",
   "execution_count": 6,
   "id": "91ee4f17",
   "metadata": {},
   "outputs": [
    {
     "data": {
      "text/plain": [
       "datetime                 0\n",
       "season                 214\n",
       "holiday                856\n",
       "workingday            1498\n",
       "weather               2140\n",
       "temp                  2782\n",
       "humidity              3424\n",
       "windspeed             4066\n",
       "casual                   0\n",
       "registered               0\n",
       "rented_bikes_count       0\n",
       "dtype: int64"
      ]
     },
     "execution_count": 6,
     "metadata": {},
     "output_type": "execute_result"
    }
   ],
   "source": [
    "df.isnull().sum()"
   ]
  },
  {
   "cell_type": "code",
   "execution_count": 7,
   "id": "7f6e45a0",
   "metadata": {},
   "outputs": [
    {
     "data": {
      "text/plain": [
       "Winter    2688\n",
       "Fall      2680\n",
       "Summer    2670\n",
       "Spring    2634\n",
       "Name: season, dtype: int64"
      ]
     },
     "execution_count": 7,
     "metadata": {},
     "output_type": "execute_result"
    }
   ],
   "source": [
    "# count of season\n",
    "df['season'].value_counts()"
   ]
  },
  {
   "cell_type": "code",
   "execution_count": 8,
   "id": "44c600b9",
   "metadata": {},
   "outputs": [
    {
     "data": {
      "text/plain": [
       "'Winter'"
      ]
     },
     "execution_count": 8,
     "metadata": {},
     "output_type": "execute_result"
    }
   ],
   "source": [
    "# most frequent value\n",
    "df['season'].mode()[0]"
   ]
  },
  {
   "cell_type": "code",
   "execution_count": 9,
   "id": "21dc7e83",
   "metadata": {},
   "outputs": [],
   "source": [
    "# fill missing values with most frequent value\n",
    "df['season'] = df['season'].fillna(df['season'].mode()[0])"
   ]
  },
  {
   "cell_type": "code",
   "execution_count": 10,
   "id": "b6670f43",
   "metadata": {},
   "outputs": [
    {
     "data": {
      "text/plain": [
       "0.0    9738\n",
       "1.0     292\n",
       "Name: holiday, dtype: int64"
      ]
     },
     "execution_count": 10,
     "metadata": {},
     "output_type": "execute_result"
    }
   ],
   "source": [
    "df['holiday'].value_counts()"
   ]
  },
  {
   "cell_type": "code",
   "execution_count": 11,
   "id": "c98dedb6",
   "metadata": {},
   "outputs": [
    {
     "data": {
      "text/plain": [
       "0.0"
      ]
     },
     "execution_count": 11,
     "metadata": {},
     "output_type": "execute_result"
    }
   ],
   "source": [
    "df['holiday'].mode()[0]"
   ]
  },
  {
   "cell_type": "code",
   "execution_count": 12,
   "id": "05ae79f6",
   "metadata": {},
   "outputs": [],
   "source": [
    "df['holiday'] = df['holiday'].fillna(df['holiday'].mode()[0])"
   ]
  },
  {
   "cell_type": "code",
   "execution_count": 13,
   "id": "8c31f99f",
   "metadata": {},
   "outputs": [
    {
     "data": {
      "text/plain": [
       "1.0    6367\n",
       "0.0    3021\n",
       "Name: workingday, dtype: int64"
      ]
     },
     "execution_count": 13,
     "metadata": {},
     "output_type": "execute_result"
    }
   ],
   "source": [
    "df['workingday'].value_counts()"
   ]
  },
  {
   "cell_type": "code",
   "execution_count": 14,
   "id": "f57fb666",
   "metadata": {},
   "outputs": [
    {
     "data": {
      "text/plain": [
       "1.0"
      ]
     },
     "execution_count": 14,
     "metadata": {},
     "output_type": "execute_result"
    }
   ],
   "source": [
    "df['workingday'].mode()[0]"
   ]
  },
  {
   "cell_type": "code",
   "execution_count": 15,
   "id": "9f225460",
   "metadata": {},
   "outputs": [],
   "source": [
    "df['workingday'] = df['workingday'].fillna(df['workingday'].mode()[0])"
   ]
  },
  {
   "cell_type": "code",
   "execution_count": 16,
   "id": "b49e3223",
   "metadata": {},
   "outputs": [
    {
     "data": {
      "text/plain": [
       "Clear    5793\n",
       "Mist     2259\n",
       "Rainy     693\n",
       "Snowy       1\n",
       "Name: weather, dtype: int64"
      ]
     },
     "execution_count": 16,
     "metadata": {},
     "output_type": "execute_result"
    }
   ],
   "source": [
    "df['weather'].value_counts()"
   ]
  },
  {
   "cell_type": "code",
   "execution_count": 17,
   "id": "6e207445",
   "metadata": {},
   "outputs": [
    {
     "data": {
      "text/plain": [
       "'Clear'"
      ]
     },
     "execution_count": 17,
     "metadata": {},
     "output_type": "execute_result"
    }
   ],
   "source": [
    "df['weather'].mode()[0]"
   ]
  },
  {
   "cell_type": "code",
   "execution_count": 18,
   "id": "7780607c",
   "metadata": {},
   "outputs": [],
   "source": [
    "df['weather'] = df['weather'].fillna(df['weather'].mode()[0])"
   ]
  },
  {
   "cell_type": "code",
   "execution_count": 19,
   "id": "b320fe3b",
   "metadata": {},
   "outputs": [
    {
     "data": {
      "text/plain": [
       "count    8104.000000\n",
       "mean       20.317665\n",
       "std         7.818568\n",
       "min         0.820000\n",
       "25%        13.940000\n",
       "50%        20.500000\n",
       "75%        26.240000\n",
       "max        41.000000\n",
       "Name: temp, dtype: float64"
      ]
     },
     "execution_count": 19,
     "metadata": {},
     "output_type": "execute_result"
    }
   ],
   "source": [
    "df['temp'].describe()"
   ]
  },
  {
   "cell_type": "code",
   "execution_count": 20,
   "id": "26d4602b",
   "metadata": {},
   "outputs": [
    {
     "data": {
      "text/plain": [
       "<seaborn.axisgrid.FacetGrid at 0x18547ec66d0>"
      ]
     },
     "execution_count": 20,
     "metadata": {},
     "output_type": "execute_result"
    },
    {
     "data": {
      "image/png": "[encoded data removed]",
      "text/plain": [
       "<Figure size 360x360 with 1 Axes>"
      ]
     },
     "metadata": {
      "needs_background": "light"
     },
     "output_type": "display_data"
    }
   ],
   "source": [
    "# visualize Distribution of temp\n",
    "sns.displot(df['temp'])"
   ]
  },
  {
   "cell_type": "code",
   "execution_count": 21,
   "id": "0b597937",
   "metadata": {},
   "outputs": [
    {
     "data": {
      "text/plain": [
       "<AxesSubplot:xlabel='temp'>"
      ]
     },
     "execution_count": 21,
     "metadata": {},
     "output_type": "execute_result"
    },
    {
     "data": {
      "image/png": "[encoded data removed]",
      "text/plain": [
       "<Figure size 432x288 with 1 Axes>"
      ]
     },
     "metadata": {
      "needs_background": "light"
     },
     "output_type": "display_data"
    }
   ],
   "source": [
    "# visualize outliers\n",
    "sns.boxplot(df['temp'])"
   ]
  },
  {
   "cell_type": "code",
   "execution_count": 22,
   "id": "abc601c3",
   "metadata": {},
   "outputs": [],
   "source": [
    "df['temp'] = df['temp'].fillna(df['temp'].mean())"
   ]
  },
  {
   "cell_type": "code",
   "execution_count": 23,
   "id": "1947e19a",
   "metadata": {},
   "outputs": [
    {
     "data": {
      "text/plain": [
       "count    7462.000000\n",
       "mean       61.790673\n",
       "std        19.262084\n",
       "min         0.000000\n",
       "25%        47.000000\n",
       "50%        62.000000\n",
       "75%        77.000000\n",
       "max       100.000000\n",
       "Name: humidity, dtype: float64"
      ]
     },
     "execution_count": 23,
     "metadata": {},
     "output_type": "execute_result"
    }
   ],
   "source": [
    "df['humidity'].describe()"
   ]
  },
  {
   "cell_type": "code",
   "execution_count": 24,
   "id": "8420b1d6",
   "metadata": {},
   "outputs": [
    {
     "data": {
      "text/plain": [
       "<seaborn.axisgrid.FacetGrid at 0x185425ce190>"
      ]
     },
     "execution_count": 24,
     "metadata": {},
     "output_type": "execute_result"
    },
    {
     "data": {
      "image/png": "[encoded data removed]",
      "text/plain": [
       "<Figure size 360x360 with 1 Axes>"
      ]
     },
     "metadata": {
      "needs_background": "light"
     },
     "output_type": "display_data"
    }
   ],
   "source": [
    "sns.displot(df['humidity'])"
   ]
  },
  {
   "cell_type": "code",
   "execution_count": 25,
   "id": "16e8e3a5",
   "metadata": {},
   "outputs": [
    {
     "data": {
      "text/plain": [
       "<AxesSubplot:xlabel='humidity'>"
      ]
     },
     "execution_count": 25,
     "metadata": {},
     "output_type": "execute_result"
    },
    {
     "data": {
      "image/png": "[encoded data removed]",
      "text/plain": [
       "<Figure size 432x288 with 1 Axes>"
      ]
     },
     "metadata": {
      "needs_background": "light"
     },
     "output_type": "display_data"
    }
   ],
   "source": [
    "sns.boxplot(df['humidity'])"
   ]
  },
  {
   "cell_type": "code",
   "execution_count": 26,
   "id": "d2c1cc62",
   "metadata": {},
   "outputs": [
    {
     "data": {
      "text/html": [
       "<div>\n",
       "<style scoped>\n",
       "    .dataframe tbody tr th:only-of-type {\n",
       "        vertical-align: middle;\n",
       "    }\n",
       "\n",
       "    .dataframe tbody tr th {\n",
       "        vertical-align: top;\n",
       "    }\n",
       "\n",
       "    .dataframe thead th {\n",
       "        text-align: right;\n",
       "    }\n",
       "</style>\n",
       "<table border=\"1\" class=\"dataframe\">\n",
       "  <thead>\n",
       "    <tr style=\"text-align: right;\">\n",
       "      <th></th>\n",
       "      <th>datetime</th>\n",
       "      <th>season</th>\n",
       "      <th>holiday</th>\n",
       "      <th>workingday</th>\n",
       "      <th>weather</th>\n",
       "      <th>temp</th>\n",
       "      <th>humidity</th>\n",
       "      <th>windspeed</th>\n",
       "      <th>casual</th>\n",
       "      <th>registered</th>\n",
       "      <th>rented_bikes_count</th>\n",
       "    </tr>\n",
       "  </thead>\n",
       "  <tbody>\n",
       "    <tr>\n",
       "      <th>1091</th>\n",
       "      <td>2011-03-10 00:00:00</td>\n",
       "      <td>Spring</td>\n",
       "      <td>0.0</td>\n",
       "      <td>1.0</td>\n",
       "      <td>Rainy</td>\n",
       "      <td>13.940000</td>\n",
       "      <td>0.0</td>\n",
       "      <td>16.9979</td>\n",
       "      <td>3</td>\n",
       "      <td>0</td>\n",
       "      <td>3</td>\n",
       "    </tr>\n",
       "    <tr>\n",
       "      <th>1093</th>\n",
       "      <td>2011-03-10 02:00:00</td>\n",
       "      <td>Spring</td>\n",
       "      <td>0.0</td>\n",
       "      <td>1.0</td>\n",
       "      <td>Rainy</td>\n",
       "      <td>13.940000</td>\n",
       "      <td>0.0</td>\n",
       "      <td>16.9979</td>\n",
       "      <td>0</td>\n",
       "      <td>1</td>\n",
       "      <td>1</td>\n",
       "    </tr>\n",
       "    <tr>\n",
       "      <th>1094</th>\n",
       "      <td>2011-03-10 05:00:00</td>\n",
       "      <td>Spring</td>\n",
       "      <td>0.0</td>\n",
       "      <td>1.0</td>\n",
       "      <td>Rainy</td>\n",
       "      <td>20.317665</td>\n",
       "      <td>0.0</td>\n",
       "      <td>NaN</td>\n",
       "      <td>1</td>\n",
       "      <td>2</td>\n",
       "      <td>3</td>\n",
       "    </tr>\n",
       "    <tr>\n",
       "      <th>1095</th>\n",
       "      <td>2011-03-10 06:00:00</td>\n",
       "      <td>Spring</td>\n",
       "      <td>0.0</td>\n",
       "      <td>1.0</td>\n",
       "      <td>Rainy</td>\n",
       "      <td>14.760000</td>\n",
       "      <td>0.0</td>\n",
       "      <td>NaN</td>\n",
       "      <td>0</td>\n",
       "      <td>12</td>\n",
       "      <td>12</td>\n",
       "    </tr>\n",
       "    <tr>\n",
       "      <th>1096</th>\n",
       "      <td>2011-03-10 07:00:00</td>\n",
       "      <td>Winter</td>\n",
       "      <td>0.0</td>\n",
       "      <td>1.0</td>\n",
       "      <td>Rainy</td>\n",
       "      <td>15.580000</td>\n",
       "      <td>0.0</td>\n",
       "      <td>15.0013</td>\n",
       "      <td>1</td>\n",
       "      <td>36</td>\n",
       "      <td>37</td>\n",
       "    </tr>\n",
       "    <tr>\n",
       "      <th>1097</th>\n",
       "      <td>2011-03-10 08:00:00</td>\n",
       "      <td>Spring</td>\n",
       "      <td>0.0</td>\n",
       "      <td>1.0</td>\n",
       "      <td>Rainy</td>\n",
       "      <td>20.317665</td>\n",
       "      <td>0.0</td>\n",
       "      <td>NaN</td>\n",
       "      <td>1</td>\n",
       "      <td>43</td>\n",
       "      <td>44</td>\n",
       "    </tr>\n",
       "    <tr>\n",
       "      <th>1098</th>\n",
       "      <td>2011-03-10 09:00:00</td>\n",
       "      <td>Spring</td>\n",
       "      <td>0.0</td>\n",
       "      <td>1.0</td>\n",
       "      <td>Clear</td>\n",
       "      <td>20.317665</td>\n",
       "      <td>0.0</td>\n",
       "      <td>15.0013</td>\n",
       "      <td>1</td>\n",
       "      <td>23</td>\n",
       "      <td>24</td>\n",
       "    </tr>\n",
       "    <tr>\n",
       "      <th>1099</th>\n",
       "      <td>2011-03-10 10:00:00</td>\n",
       "      <td>Spring</td>\n",
       "      <td>0.0</td>\n",
       "      <td>1.0</td>\n",
       "      <td>Rainy</td>\n",
       "      <td>16.400000</td>\n",
       "      <td>0.0</td>\n",
       "      <td>11.0014</td>\n",
       "      <td>0</td>\n",
       "      <td>17</td>\n",
       "      <td>17</td>\n",
       "    </tr>\n",
       "    <tr>\n",
       "      <th>1100</th>\n",
       "      <td>2011-03-10 11:00:00</td>\n",
       "      <td>Spring</td>\n",
       "      <td>0.0</td>\n",
       "      <td>1.0</td>\n",
       "      <td>Rainy</td>\n",
       "      <td>16.400000</td>\n",
       "      <td>0.0</td>\n",
       "      <td>16.9979</td>\n",
       "      <td>6</td>\n",
       "      <td>5</td>\n",
       "      <td>11</td>\n",
       "    </tr>\n",
       "    <tr>\n",
       "      <th>1101</th>\n",
       "      <td>2011-03-10 12:00:00</td>\n",
       "      <td>Spring</td>\n",
       "      <td>0.0</td>\n",
       "      <td>1.0</td>\n",
       "      <td>Rainy</td>\n",
       "      <td>20.317665</td>\n",
       "      <td>0.0</td>\n",
       "      <td>NaN</td>\n",
       "      <td>4</td>\n",
       "      <td>30</td>\n",
       "      <td>34</td>\n",
       "    </tr>\n",
       "    <tr>\n",
       "      <th>1102</th>\n",
       "      <td>2011-03-10 13:00:00</td>\n",
       "      <td>Spring</td>\n",
       "      <td>0.0</td>\n",
       "      <td>1.0</td>\n",
       "      <td>Rainy</td>\n",
       "      <td>17.220000</td>\n",
       "      <td>0.0</td>\n",
       "      <td>NaN</td>\n",
       "      <td>1</td>\n",
       "      <td>11</td>\n",
       "      <td>12</td>\n",
       "    </tr>\n",
       "    <tr>\n",
       "      <th>1104</th>\n",
       "      <td>2011-03-10 15:00:00</td>\n",
       "      <td>Spring</td>\n",
       "      <td>0.0</td>\n",
       "      <td>1.0</td>\n",
       "      <td>Rainy</td>\n",
       "      <td>18.040000</td>\n",
       "      <td>0.0</td>\n",
       "      <td>NaN</td>\n",
       "      <td>3</td>\n",
       "      <td>11</td>\n",
       "      <td>14</td>\n",
       "    </tr>\n",
       "    <tr>\n",
       "      <th>1106</th>\n",
       "      <td>2011-03-10 17:00:00</td>\n",
       "      <td>Spring</td>\n",
       "      <td>0.0</td>\n",
       "      <td>1.0</td>\n",
       "      <td>Mist</td>\n",
       "      <td>18.040000</td>\n",
       "      <td>0.0</td>\n",
       "      <td>26.0027</td>\n",
       "      <td>2</td>\n",
       "      <td>109</td>\n",
       "      <td>111</td>\n",
       "    </tr>\n",
       "    <tr>\n",
       "      <th>1107</th>\n",
       "      <td>2011-03-10 18:00:00</td>\n",
       "      <td>Spring</td>\n",
       "      <td>0.0</td>\n",
       "      <td>1.0</td>\n",
       "      <td>Rainy</td>\n",
       "      <td>18.040000</td>\n",
       "      <td>0.0</td>\n",
       "      <td>NaN</td>\n",
       "      <td>2</td>\n",
       "      <td>80</td>\n",
       "      <td>82</td>\n",
       "    </tr>\n",
       "    <tr>\n",
       "      <th>1108</th>\n",
       "      <td>2011-03-10 19:00:00</td>\n",
       "      <td>Spring</td>\n",
       "      <td>0.0</td>\n",
       "      <td>1.0</td>\n",
       "      <td>Rainy</td>\n",
       "      <td>18.040000</td>\n",
       "      <td>0.0</td>\n",
       "      <td>39.0007</td>\n",
       "      <td>5</td>\n",
       "      <td>51</td>\n",
       "      <td>56</td>\n",
       "    </tr>\n",
       "    <tr>\n",
       "      <th>1109</th>\n",
       "      <td>2011-03-10 20:00:00</td>\n",
       "      <td>Spring</td>\n",
       "      <td>0.0</td>\n",
       "      <td>1.0</td>\n",
       "      <td>Rainy</td>\n",
       "      <td>20.317665</td>\n",
       "      <td>0.0</td>\n",
       "      <td>22.0028</td>\n",
       "      <td>9</td>\n",
       "      <td>29</td>\n",
       "      <td>38</td>\n",
       "    </tr>\n",
       "    <tr>\n",
       "      <th>1110</th>\n",
       "      <td>2011-03-10 21:00:00</td>\n",
       "      <td>Spring</td>\n",
       "      <td>0.0</td>\n",
       "      <td>1.0</td>\n",
       "      <td>Rainy</td>\n",
       "      <td>20.317665</td>\n",
       "      <td>0.0</td>\n",
       "      <td>15.0013</td>\n",
       "      <td>1</td>\n",
       "      <td>27</td>\n",
       "      <td>28</td>\n",
       "    </tr>\n",
       "    <tr>\n",
       "      <th>1111</th>\n",
       "      <td>2011-03-10 22:00:00</td>\n",
       "      <td>Spring</td>\n",
       "      <td>0.0</td>\n",
       "      <td>1.0</td>\n",
       "      <td>Clear</td>\n",
       "      <td>20.317665</td>\n",
       "      <td>0.0</td>\n",
       "      <td>8.9981</td>\n",
       "      <td>4</td>\n",
       "      <td>30</td>\n",
       "      <td>34</td>\n",
       "    </tr>\n",
       "    <tr>\n",
       "      <th>1112</th>\n",
       "      <td>2011-03-10 23:00:00</td>\n",
       "      <td>Spring</td>\n",
       "      <td>0.0</td>\n",
       "      <td>1.0</td>\n",
       "      <td>Rainy</td>\n",
       "      <td>20.317665</td>\n",
       "      <td>0.0</td>\n",
       "      <td>6.0032</td>\n",
       "      <td>1</td>\n",
       "      <td>26</td>\n",
       "      <td>27</td>\n",
       "    </tr>\n",
       "  </tbody>\n",
       "</table>\n",
       "</div>"
      ],
      "text/plain": [
       "                 datetime  season  holiday  workingday weather       temp  \\\n",
       "1091  2011-03-10 00:00:00  Spring      0.0         1.0   Rainy  13.940000   \n",
       "1093  2011-03-10 02:00:00  Spring      0.0         1.0   Rainy  13.940000   \n",
       "1094  2011-03-10 05:00:00  Spring      0.0         1.0   Rainy  20.317665   \n",
       "1095  2011-03-10 06:00:00  Spring      0.0         1.0   Rainy  14.760000   \n",
       "1096  2011-03-10 07:00:00  Winter      0.0         1.0   Rainy  15.580000   \n",
       "1097  2011-03-10 08:00:00  Spring      0.0         1.0   Rainy  20.317665   \n",
       "1098  2011-03-10 09:00:00  Spring      0.0         1.0   Clear  20.317665   \n",
       "1099  2011-03-10 10:00:00  Spring      0.0         1.0   Rainy  16.400000   \n",
       "1100  2011-03-10 11:00:00  Spring      0.0         1.0   Rainy  16.400000   \n",
       "1101  2011-03-10 12:00:00  Spring      0.0         1.0   Rainy  20.317665   \n",
       "1102  2011-03-10 13:00:00  Spring      0.0         1.0   Rainy  17.220000   \n",
       "1104  2011-03-10 15:00:00  Spring      0.0         1.0   Rainy  18.040000   \n",
       "1106  2011-03-10 17:00:00  Spring      0.0         1.0    Mist  18.040000   \n",
       "1107  2011-03-10 18:00:00  Spring      0.0         1.0   Rainy  18.040000   \n",
       "1108  2011-03-10 19:00:00  Spring      0.0         1.0   Rainy  18.040000   \n",
       "1109  2011-03-10 20:00:00  Spring      0.0         1.0   Rainy  20.317665   \n",
       "1110  2011-03-10 21:00:00  Spring      0.0         1.0   Rainy  20.317665   \n",
       "1111  2011-03-10 22:00:00  Spring      0.0         1.0   Clear  20.317665   \n",
       "1112  2011-03-10 23:00:00  Spring      0.0         1.0   Rainy  20.317665   \n",
       "\n",
       "      humidity  windspeed  casual  registered  rented_bikes_count  \n",
       "1091       0.0    16.9979       3           0                   3  \n",
       "1093       0.0    16.9979       0           1                   1  \n",
       "1094       0.0        NaN       1           2                   3  \n",
       "1095       0.0        NaN       0          12                  12  \n",
       "1096       0.0    15.0013       1          36                  37  \n",
       "1097       0.0        NaN       1          43                  44  \n",
       "1098       0.0    15.0013       1          23                  24  \n",
       "1099       0.0    11.0014       0          17                  17  \n",
       "1100       0.0    16.9979       6           5                  11  \n",
       "1101       0.0        NaN       4          30                  34  \n",
       "1102       0.0        NaN       1          11                  12  \n",
       "1104       0.0        NaN       3          11                  14  \n",
       "1106       0.0    26.0027       2         109                 111  \n",
       "1107       0.0        NaN       2          80                  82  \n",
       "1108       0.0    39.0007       5          51                  56  \n",
       "1109       0.0    22.0028       9          29                  38  \n",
       "1110       0.0    15.0013       1          27                  28  \n",
       "1111       0.0     8.9981       4          30                  34  \n",
       "1112       0.0     6.0032       1          26                  27  "
      ]
     },
     "execution_count": 26,
     "metadata": {},
     "output_type": "execute_result"
    }
   ],
   "source": [
    "df[df['humidity']<1]"
   ]
  },
  {
   "cell_type": "code",
   "execution_count": 27,
   "id": "4af2c0ca",
   "metadata": {},
   "outputs": [
    {
     "data": {
      "text/plain": [
       "61.94840790004031"
      ]
     },
     "execution_count": 27,
     "metadata": {},
     "output_type": "execute_result"
    }
   ],
   "source": [
    "df[df['humidity']>=1]['humidity'].mean()"
   ]
  },
  {
   "cell_type": "code",
   "execution_count": 28,
   "id": "a450ac92",
   "metadata": {},
   "outputs": [],
   "source": [
    "# filter outliers with mean of data which doesn't have outliers\n",
    "df['humidity'] = df['humidity'].apply(lambda x: df[df['humidity']>=1]['humidity'].mean() if x < 1 else x)"
   ]
  },
  {
   "cell_type": "code",
   "execution_count": 29,
   "id": "8cfaa9e0",
   "metadata": {},
   "outputs": [
    {
     "data": {
      "text/plain": [
       "<AxesSubplot:xlabel='humidity'>"
      ]
     },
     "execution_count": 29,
     "metadata": {},
     "output_type": "execute_result"
    },
    {
     "data": {
      "image/png": "[encoded data removed]",
      "text/plain": [
       "<Figure size 432x288 with 1 Axes>"
      ]
     },
     "metadata": {
      "needs_background": "light"
     },
     "output_type": "display_data"
    }
   ],
   "source": [
    "sns.boxplot(df['humidity'])"
   ]
  },
  {
   "cell_type": "code",
   "execution_count": 30,
   "id": "028651c3",
   "metadata": {},
   "outputs": [],
   "source": [
    "df['humidity'] = df['humidity'].fillna(df['humidity'].mean())"
   ]
  },
  {
   "cell_type": "code",
   "execution_count": 31,
   "id": "7305dcc7",
   "metadata": {},
   "outputs": [
    {
     "data": {
      "text/plain": [
       "count    6820.000000\n",
       "mean       12.708806\n",
       "std         8.131154\n",
       "min         0.000000\n",
       "25%         7.001500\n",
       "50%        12.998000\n",
       "75%        16.997900\n",
       "max        56.996900\n",
       "Name: windspeed, dtype: float64"
      ]
     },
     "execution_count": 31,
     "metadata": {},
     "output_type": "execute_result"
    }
   ],
   "source": [
    "df['windspeed'].describe()"
   ]
  },
  {
   "cell_type": "code",
   "execution_count": 32,
   "id": "44ae7928",
   "metadata": {},
   "outputs": [
    {
     "data": {
      "text/plain": [
       "<seaborn.axisgrid.FacetGrid at 0x18548987250>"
      ]
     },
     "execution_count": 32,
     "metadata": {},
     "output_type": "execute_result"
    },
    {
     "data": {
      "image/png": "[encoded data removed]",
      "text/plain": [
       "<Figure size 360x360 with 1 Axes>"
      ]
     },
     "metadata": {
      "needs_background": "light"
     },
     "output_type": "display_data"
    }
   ],
   "source": [
    "sns.displot(df['windspeed'])"
   ]
  },
  {
   "cell_type": "code",
   "execution_count": 33,
   "id": "2731dd9a",
   "metadata": {},
   "outputs": [
    {
     "data": {
      "text/plain": [
       "<AxesSubplot:xlabel='windspeed'>"
      ]
     },
     "execution_count": 33,
     "metadata": {},
     "output_type": "execute_result"
    },
    {
     "data": {
      "image/png": "[encoded data removed]",
      "text/plain": [
       "<Figure size 432x288 with 1 Axes>"
      ]
     },
     "metadata": {
      "needs_background": "light"
     },
     "output_type": "display_data"
    }
   ],
   "source": [
    "sns.boxplot(df['windspeed'])"
   ]
  },
  {
   "cell_type": "code",
   "execution_count": 34,
   "id": "2550d81b",
   "metadata": {},
   "outputs": [],
   "source": [
    "df['windspeed'] = df['windspeed'].apply(lambda x: df[df['windspeed']<= 30]['windspeed'].mean() if x > 30 else x)"
   ]
  },
  {
   "cell_type": "code",
   "execution_count": 35,
   "id": "a27b0363",
   "metadata": {},
   "outputs": [
    {
     "data": {
      "text/plain": [
       "<AxesSubplot:xlabel='windspeed'>"
      ]
     },
     "execution_count": 35,
     "metadata": {},
     "output_type": "execute_result"
    },
    {
     "data": {
      "image/png": "[encoded data removed]",
      "text/plain": [
       "<Figure size 432x288 with 1 Axes>"
      ]
     },
     "metadata": {
      "needs_background": "light"
     },
     "output_type": "display_data"
    }
   ],
   "source": [
    "sns.boxplot(df['windspeed'])"
   ]
  },
  {
   "cell_type": "code",
   "execution_count": 36,
   "id": "177ad55c",
   "metadata": {},
   "outputs": [
    {
     "data": {
      "text/plain": [
       "count    6820.000000\n",
       "mean       11.904669\n",
       "std         6.972797\n",
       "min         0.000000\n",
       "25%         7.001500\n",
       "50%        11.904669\n",
       "75%        16.997900\n",
       "max        27.999300\n",
       "Name: windspeed, dtype: float64"
      ]
     },
     "execution_count": 36,
     "metadata": {},
     "output_type": "execute_result"
    }
   ],
   "source": [
    "df['windspeed'].describe()"
   ]
  },
  {
   "cell_type": "code",
   "execution_count": 37,
   "id": "73b780ae",
   "metadata": {},
   "outputs": [],
   "source": [
    "df['windspeed'] = df['windspeed'].fillna(df['windspeed'].mean())"
   ]
  },
  {
   "cell_type": "code",
   "execution_count": 38,
   "id": "4c784c9f",
   "metadata": {},
   "outputs": [
    {
     "data": {
      "text/plain": [
       "False"
      ]
     },
     "execution_count": 38,
     "metadata": {},
     "output_type": "execute_result"
    }
   ],
   "source": [
    "df.isnull().values.any()"
   ]
  },
  {
   "cell_type": "code",
   "execution_count": 39,
   "id": "4101b627",
   "metadata": {},
   "outputs": [
    {
     "data": {
      "text/plain": [
       "False"
      ]
     },
     "execution_count": 39,
     "metadata": {},
     "output_type": "execute_result"
    }
   ],
   "source": [
    "df.duplicated().values.any()"
   ]
  },
  {
   "cell_type": "code",
   "execution_count": 40,
   "id": "4b2b28db",
   "metadata": {},
   "outputs": [
    {
     "name": "stdout",
     "output_type": "stream",
     "text": [
      "<class 'pandas.core.frame.DataFrame'>\n",
      "RangeIndex: 10886 entries, 0 to 10885\n",
      "Data columns (total 11 columns):\n",
      " #   Column              Non-Null Count  Dtype  \n",
      "---  ------              --------------  -----  \n",
      " 0   datetime            10886 non-null  object \n",
      " 1   season              10886 non-null  object \n",
      " 2   holiday             10886 non-null  float64\n",
      " 3   workingday          10886 non-null  float64\n",
      " 4   weather             10886 non-null  object \n",
      " 5   temp                10886 non-null  float64\n",
      " 6   humidity            10886 non-null  float64\n",
      " 7   windspeed           10886 non-null  float64\n",
      " 8   casual              10886 non-null  int64  \n",
      " 9   registered          10886 non-null  int64  \n",
      " 10  rented_bikes_count  10886 non-null  int64  \n",
      "dtypes: float64(5), int64(3), object(3)\n",
      "memory usage: 935.6+ KB\n"
     ]
    }
   ],
   "source": [
    "df.info()"
   ]
  },
  {
   "cell_type": "code",
   "execution_count": 41,
   "id": "7342fb27",
   "metadata": {},
   "outputs": [
    {
     "data": {
      "text/html": [
       "<div>\n",
       "<style scoped>\n",
       "    .dataframe tbody tr th:only-of-type {\n",
       "        vertical-align: middle;\n",
       "    }\n",
       "\n",
       "    .dataframe tbody tr th {\n",
       "        vertical-align: top;\n",
       "    }\n",
       "\n",
       "    .dataframe thead th {\n",
       "        text-align: right;\n",
       "    }\n",
       "</style>\n",
       "<table border=\"1\" class=\"dataframe\">\n",
       "  <thead>\n",
       "    <tr style=\"text-align: right;\">\n",
       "      <th></th>\n",
       "      <th>holiday</th>\n",
       "      <th>workingday</th>\n",
       "      <th>temp</th>\n",
       "      <th>humidity</th>\n",
       "      <th>windspeed</th>\n",
       "      <th>casual</th>\n",
       "      <th>registered</th>\n",
       "      <th>rented_bikes_count</th>\n",
       "    </tr>\n",
       "  </thead>\n",
       "  <tbody>\n",
       "    <tr>\n",
       "      <th>count</th>\n",
       "      <td>10886.000000</td>\n",
       "      <td>10886.000000</td>\n",
       "      <td>10886.000000</td>\n",
       "      <td>10886.000000</td>\n",
       "      <td>10886.000000</td>\n",
       "      <td>10886.000000</td>\n",
       "      <td>10886.000000</td>\n",
       "      <td>10886.000000</td>\n",
       "    </tr>\n",
       "    <tr>\n",
       "      <th>mean</th>\n",
       "      <td>0.026823</td>\n",
       "      <td>0.722488</td>\n",
       "      <td>20.317665</td>\n",
       "      <td>61.948408</td>\n",
       "      <td>11.904669</td>\n",
       "      <td>36.021955</td>\n",
       "      <td>155.552177</td>\n",
       "      <td>191.574132</td>\n",
       "    </tr>\n",
       "    <tr>\n",
       "      <th>std</th>\n",
       "      <td>0.161575</td>\n",
       "      <td>0.447792</td>\n",
       "      <td>6.745838</td>\n",
       "      <td>15.736432</td>\n",
       "      <td>5.518908</td>\n",
       "      <td>49.960477</td>\n",
       "      <td>151.039033</td>\n",
       "      <td>181.144454</td>\n",
       "    </tr>\n",
       "    <tr>\n",
       "      <th>min</th>\n",
       "      <td>0.000000</td>\n",
       "      <td>0.000000</td>\n",
       "      <td>0.820000</td>\n",
       "      <td>8.000000</td>\n",
       "      <td>0.000000</td>\n",
       "      <td>0.000000</td>\n",
       "      <td>0.000000</td>\n",
       "      <td>1.000000</td>\n",
       "    </tr>\n",
       "    <tr>\n",
       "      <th>25%</th>\n",
       "      <td>0.000000</td>\n",
       "      <td>0.000000</td>\n",
       "      <td>16.400000</td>\n",
       "      <td>54.000000</td>\n",
       "      <td>8.998100</td>\n",
       "      <td>4.000000</td>\n",
       "      <td>36.000000</td>\n",
       "      <td>42.000000</td>\n",
       "    </tr>\n",
       "    <tr>\n",
       "      <th>50%</th>\n",
       "      <td>0.000000</td>\n",
       "      <td>1.000000</td>\n",
       "      <td>20.317665</td>\n",
       "      <td>61.948408</td>\n",
       "      <td>11.904669</td>\n",
       "      <td>17.000000</td>\n",
       "      <td>118.000000</td>\n",
       "      <td>145.000000</td>\n",
       "    </tr>\n",
       "    <tr>\n",
       "      <th>75%</th>\n",
       "      <td>0.000000</td>\n",
       "      <td>1.000000</td>\n",
       "      <td>24.600000</td>\n",
       "      <td>70.000000</td>\n",
       "      <td>12.998000</td>\n",
       "      <td>49.000000</td>\n",
       "      <td>222.000000</td>\n",
       "      <td>284.000000</td>\n",
       "    </tr>\n",
       "    <tr>\n",
       "      <th>max</th>\n",
       "      <td>1.000000</td>\n",
       "      <td>1.000000</td>\n",
       "      <td>41.000000</td>\n",
       "      <td>100.000000</td>\n",
       "      <td>27.999300</td>\n",
       "      <td>367.000000</td>\n",
       "      <td>886.000000</td>\n",
       "      <td>977.000000</td>\n",
       "    </tr>\n",
       "  </tbody>\n",
       "</table>\n",
       "</div>"
      ],
      "text/plain": [
       "            holiday    workingday          temp      humidity     windspeed  \\\n",
       "count  10886.000000  10886.000000  10886.000000  10886.000000  10886.000000   \n",
       "mean       0.026823      0.722488     20.317665     61.948408     11.904669   \n",
       "std        0.161575      0.447792      6.745838     15.736432      5.518908   \n",
       "min        0.000000      0.000000      0.820000      8.000000      0.000000   \n",
       "25%        0.000000      0.000000     16.400000     54.000000      8.998100   \n",
       "50%        0.000000      1.000000     20.317665     61.948408     11.904669   \n",
       "75%        0.000000      1.000000     24.600000     70.000000     12.998000   \n",
       "max        1.000000      1.000000     41.000000    100.000000     27.999300   \n",
       "\n",
       "             casual    registered  rented_bikes_count  \n",
       "count  10886.000000  10886.000000        10886.000000  \n",
       "mean      36.021955    155.552177          191.574132  \n",
       "std       49.960477    151.039033          181.144454  \n",
       "min        0.000000      0.000000            1.000000  \n",
       "25%        4.000000     36.000000           42.000000  \n",
       "50%       17.000000    118.000000          145.000000  \n",
       "75%       49.000000    222.000000          284.000000  \n",
       "max      367.000000    886.000000          977.000000  "
      ]
     },
     "execution_count": 41,
     "metadata": {},
     "output_type": "execute_result"
    }
   ],
   "source": [
    "df.describe()"
   ]
  },
  {
   "cell_type": "code",
   "execution_count": 42,
   "id": "c4d35066",
   "metadata": {},
   "outputs": [
    {
     "data": {
      "text/html": [
       "<div>\n",
       "<style scoped>\n",
       "    .dataframe tbody tr th:only-of-type {\n",
       "        vertical-align: middle;\n",
       "    }\n",
       "\n",
       "    .dataframe tbody tr th {\n",
       "        vertical-align: top;\n",
       "    }\n",
       "\n",
       "    .dataframe thead th {\n",
       "        text-align: right;\n",
       "    }\n",
       "</style>\n",
       "<table border=\"1\" class=\"dataframe\">\n",
       "  <thead>\n",
       "    <tr style=\"text-align: right;\">\n",
       "      <th></th>\n",
       "      <th>datetime</th>\n",
       "      <th>season</th>\n",
       "      <th>holiday</th>\n",
       "      <th>workingday</th>\n",
       "      <th>weather</th>\n",
       "      <th>temp</th>\n",
       "      <th>humidity</th>\n",
       "      <th>windspeed</th>\n",
       "      <th>casual</th>\n",
       "      <th>registered</th>\n",
       "      <th>rented_bikes_count</th>\n",
       "    </tr>\n",
       "  </thead>\n",
       "  <tbody>\n",
       "    <tr>\n",
       "      <th>0</th>\n",
       "      <td>2011-01-01 00:00:00</td>\n",
       "      <td>Spring</td>\n",
       "      <td>0.0</td>\n",
       "      <td>0.0</td>\n",
       "      <td>Clear</td>\n",
       "      <td>9.840000</td>\n",
       "      <td>81.000000</td>\n",
       "      <td>11.904669</td>\n",
       "      <td>3</td>\n",
       "      <td>13</td>\n",
       "      <td>16</td>\n",
       "    </tr>\n",
       "    <tr>\n",
       "      <th>1</th>\n",
       "      <td>2011-01-01 01:00:00</td>\n",
       "      <td>Spring</td>\n",
       "      <td>0.0</td>\n",
       "      <td>0.0</td>\n",
       "      <td>Clear</td>\n",
       "      <td>9.020000</td>\n",
       "      <td>80.000000</td>\n",
       "      <td>0.000000</td>\n",
       "      <td>8</td>\n",
       "      <td>32</td>\n",
       "      <td>40</td>\n",
       "    </tr>\n",
       "    <tr>\n",
       "      <th>2</th>\n",
       "      <td>2011-01-01 02:00:00</td>\n",
       "      <td>Spring</td>\n",
       "      <td>0.0</td>\n",
       "      <td>0.0</td>\n",
       "      <td>Clear</td>\n",
       "      <td>9.020000</td>\n",
       "      <td>61.948408</td>\n",
       "      <td>0.000000</td>\n",
       "      <td>5</td>\n",
       "      <td>27</td>\n",
       "      <td>32</td>\n",
       "    </tr>\n",
       "    <tr>\n",
       "      <th>3</th>\n",
       "      <td>2011-01-01 03:00:00</td>\n",
       "      <td>Spring</td>\n",
       "      <td>0.0</td>\n",
       "      <td>0.0</td>\n",
       "      <td>Clear</td>\n",
       "      <td>9.840000</td>\n",
       "      <td>75.000000</td>\n",
       "      <td>0.000000</td>\n",
       "      <td>3</td>\n",
       "      <td>10</td>\n",
       "      <td>13</td>\n",
       "    </tr>\n",
       "    <tr>\n",
       "      <th>4</th>\n",
       "      <td>2011-01-01 04:00:00</td>\n",
       "      <td>Winter</td>\n",
       "      <td>0.0</td>\n",
       "      <td>0.0</td>\n",
       "      <td>Clear</td>\n",
       "      <td>20.317665</td>\n",
       "      <td>75.000000</td>\n",
       "      <td>11.904669</td>\n",
       "      <td>0</td>\n",
       "      <td>1</td>\n",
       "      <td>1</td>\n",
       "    </tr>\n",
       "    <tr>\n",
       "      <th>...</th>\n",
       "      <td>...</td>\n",
       "      <td>...</td>\n",
       "      <td>...</td>\n",
       "      <td>...</td>\n",
       "      <td>...</td>\n",
       "      <td>...</td>\n",
       "      <td>...</td>\n",
       "      <td>...</td>\n",
       "      <td>...</td>\n",
       "      <td>...</td>\n",
       "      <td>...</td>\n",
       "    </tr>\n",
       "    <tr>\n",
       "      <th>10881</th>\n",
       "      <td>2012-12-19 19:00:00</td>\n",
       "      <td>Winter</td>\n",
       "      <td>0.0</td>\n",
       "      <td>1.0</td>\n",
       "      <td>Clear</td>\n",
       "      <td>15.580000</td>\n",
       "      <td>50.000000</td>\n",
       "      <td>26.002700</td>\n",
       "      <td>7</td>\n",
       "      <td>329</td>\n",
       "      <td>336</td>\n",
       "    </tr>\n",
       "    <tr>\n",
       "      <th>10882</th>\n",
       "      <td>2012-12-19 20:00:00</td>\n",
       "      <td>Winter</td>\n",
       "      <td>0.0</td>\n",
       "      <td>1.0</td>\n",
       "      <td>Clear</td>\n",
       "      <td>14.760000</td>\n",
       "      <td>61.948408</td>\n",
       "      <td>11.904669</td>\n",
       "      <td>10</td>\n",
       "      <td>231</td>\n",
       "      <td>241</td>\n",
       "    </tr>\n",
       "    <tr>\n",
       "      <th>10883</th>\n",
       "      <td>2012-12-19 21:00:00</td>\n",
       "      <td>Winter</td>\n",
       "      <td>0.0</td>\n",
       "      <td>1.0</td>\n",
       "      <td>Clear</td>\n",
       "      <td>13.940000</td>\n",
       "      <td>61.000000</td>\n",
       "      <td>15.001300</td>\n",
       "      <td>4</td>\n",
       "      <td>164</td>\n",
       "      <td>168</td>\n",
       "    </tr>\n",
       "    <tr>\n",
       "      <th>10884</th>\n",
       "      <td>2012-12-19 22:00:00</td>\n",
       "      <td>Winter</td>\n",
       "      <td>0.0</td>\n",
       "      <td>1.0</td>\n",
       "      <td>Clear</td>\n",
       "      <td>13.940000</td>\n",
       "      <td>61.948408</td>\n",
       "      <td>6.003200</td>\n",
       "      <td>12</td>\n",
       "      <td>117</td>\n",
       "      <td>129</td>\n",
       "    </tr>\n",
       "    <tr>\n",
       "      <th>10885</th>\n",
       "      <td>2012-12-19 23:00:00</td>\n",
       "      <td>Winter</td>\n",
       "      <td>0.0</td>\n",
       "      <td>1.0</td>\n",
       "      <td>Clear</td>\n",
       "      <td>13.120000</td>\n",
       "      <td>66.000000</td>\n",
       "      <td>8.998100</td>\n",
       "      <td>4</td>\n",
       "      <td>84</td>\n",
       "      <td>88</td>\n",
       "    </tr>\n",
       "  </tbody>\n",
       "</table>\n",
       "<p>10886 rows × 11 columns</p>\n",
       "</div>"
      ],
      "text/plain": [
       "                  datetime  season  holiday  workingday weather       temp  \\\n",
       "0      2011-01-01 00:00:00  Spring      0.0         0.0   Clear   9.840000   \n",
       "1      2011-01-01 01:00:00  Spring      0.0         0.0   Clear   9.020000   \n",
       "2      2011-01-01 02:00:00  Spring      0.0         0.0   Clear   9.020000   \n",
       "3      2011-01-01 03:00:00  Spring      0.0         0.0   Clear   9.840000   \n",
       "4      2011-01-01 04:00:00  Winter      0.0         0.0   Clear  20.317665   \n",
       "...                    ...     ...      ...         ...     ...        ...   \n",
       "10881  2012-12-19 19:00:00  Winter      0.0         1.0   Clear  15.580000   \n",
       "10882  2012-12-19 20:00:00  Winter      0.0         1.0   Clear  14.760000   \n",
       "10883  2012-12-19 21:00:00  Winter      0.0         1.0   Clear  13.940000   \n",
       "10884  2012-12-19 22:00:00  Winter      0.0         1.0   Clear  13.940000   \n",
       "10885  2012-12-19 23:00:00  Winter      0.0         1.0   Clear  13.120000   \n",
       "\n",
       "        humidity  windspeed  casual  registered  rented_bikes_count  \n",
       "0      81.000000  11.904669       3          13                  16  \n",
       "1      80.000000   0.000000       8          32                  40  \n",
       "2      61.948408   0.000000       5          27                  32  \n",
       "3      75.000000   0.000000       3          10                  13  \n",
       "4      75.000000  11.904669       0           1                   1  \n",
       "...          ...        ...     ...         ...                 ...  \n",
       "10881  50.000000  26.002700       7         329                 336  \n",
       "10882  61.948408  11.904669      10         231                 241  \n",
       "10883  61.000000  15.001300       4         164                 168  \n",
       "10884  61.948408   6.003200      12         117                 129  \n",
       "10885  66.000000   8.998100       4          84                  88  \n",
       "\n",
       "[10886 rows x 11 columns]"
      ]
     },
     "execution_count": 42,
     "metadata": {},
     "output_type": "execute_result"
    }
   ],
   "source": [
    "df"
   ]
  },
  {
   "cell_type": "code",
   "execution_count": 43,
   "id": "cc96ef7a",
   "metadata": {},
   "outputs": [],
   "source": [
    "# convert datetime into time type\n",
    "df['datetime'] = pd.to_datetime(df['datetime'])"
   ]
  },
  {
   "cell_type": "code",
   "execution_count": 44,
   "id": "78afa21b",
   "metadata": {},
   "outputs": [],
   "source": [
    "# make feature engineering and extract good information\n",
    "df['hour'] = df['datetime'].dt.hour\n",
    "df['day'] = df['datetime'].dt.day_name()\n",
    "df['month'] = df['datetime'].dt.month_name()"
   ]
  },
  {
   "cell_type": "code",
   "execution_count": 45,
   "id": "3c59bd30",
   "metadata": {},
   "outputs": [
    {
     "data": {
      "text/html": [
       "<div>\n",
       "<style scoped>\n",
       "    .dataframe tbody tr th:only-of-type {\n",
       "        vertical-align: middle;\n",
       "    }\n",
       "\n",
       "    .dataframe tbody tr th {\n",
       "        vertical-align: top;\n",
       "    }\n",
       "\n",
       "    .dataframe thead th {\n",
       "        text-align: right;\n",
       "    }\n",
       "</style>\n",
       "<table border=\"1\" class=\"dataframe\">\n",
       "  <thead>\n",
       "    <tr style=\"text-align: right;\">\n",
       "      <th></th>\n",
       "      <th>datetime</th>\n",
       "      <th>season</th>\n",
       "      <th>holiday</th>\n",
       "      <th>workingday</th>\n",
       "      <th>weather</th>\n",
       "      <th>temp</th>\n",
       "      <th>humidity</th>\n",
       "      <th>windspeed</th>\n",
       "      <th>casual</th>\n",
       "      <th>registered</th>\n",
       "      <th>rented_bikes_count</th>\n",
       "      <th>hour</th>\n",
       "      <th>day</th>\n",
       "      <th>month</th>\n",
       "    </tr>\n",
       "  </thead>\n",
       "  <tbody>\n",
       "    <tr>\n",
       "      <th>0</th>\n",
       "      <td>2011-01-01 00:00:00</td>\n",
       "      <td>Spring</td>\n",
       "      <td>0.0</td>\n",
       "      <td>0.0</td>\n",
       "      <td>Clear</td>\n",
       "      <td>9.840000</td>\n",
       "      <td>81.000000</td>\n",
       "      <td>11.904669</td>\n",
       "      <td>3</td>\n",
       "      <td>13</td>\n",
       "      <td>16</td>\n",
       "      <td>0</td>\n",
       "      <td>Saturday</td>\n",
       "      <td>January</td>\n",
       "    </tr>\n",
       "    <tr>\n",
       "      <th>1</th>\n",
       "      <td>2011-01-01 01:00:00</td>\n",
       "      <td>Spring</td>\n",
       "      <td>0.0</td>\n",
       "      <td>0.0</td>\n",
       "      <td>Clear</td>\n",
       "      <td>9.020000</td>\n",
       "      <td>80.000000</td>\n",
       "      <td>0.000000</td>\n",
       "      <td>8</td>\n",
       "      <td>32</td>\n",
       "      <td>40</td>\n",
       "      <td>1</td>\n",
       "      <td>Saturday</td>\n",
       "      <td>January</td>\n",
       "    </tr>\n",
       "    <tr>\n",
       "      <th>2</th>\n",
       "      <td>2011-01-01 02:00:00</td>\n",
       "      <td>Spring</td>\n",
       "      <td>0.0</td>\n",
       "      <td>0.0</td>\n",
       "      <td>Clear</td>\n",
       "      <td>9.020000</td>\n",
       "      <td>61.948408</td>\n",
       "      <td>0.000000</td>\n",
       "      <td>5</td>\n",
       "      <td>27</td>\n",
       "      <td>32</td>\n",
       "      <td>2</td>\n",
       "      <td>Saturday</td>\n",
       "      <td>January</td>\n",
       "    </tr>\n",
       "    <tr>\n",
       "      <th>3</th>\n",
       "      <td>2011-01-01 03:00:00</td>\n",
       "      <td>Spring</td>\n",
       "      <td>0.0</td>\n",
       "      <td>0.0</td>\n",
       "      <td>Clear</td>\n",
       "      <td>9.840000</td>\n",
       "      <td>75.000000</td>\n",
       "      <td>0.000000</td>\n",
       "      <td>3</td>\n",
       "      <td>10</td>\n",
       "      <td>13</td>\n",
       "      <td>3</td>\n",
       "      <td>Saturday</td>\n",
       "      <td>January</td>\n",
       "    </tr>\n",
       "    <tr>\n",
       "      <th>4</th>\n",
       "      <td>2011-01-01 04:00:00</td>\n",
       "      <td>Winter</td>\n",
       "      <td>0.0</td>\n",
       "      <td>0.0</td>\n",
       "      <td>Clear</td>\n",
       "      <td>20.317665</td>\n",
       "      <td>75.000000</td>\n",
       "      <td>11.904669</td>\n",
       "      <td>0</td>\n",
       "      <td>1</td>\n",
       "      <td>1</td>\n",
       "      <td>4</td>\n",
       "      <td>Saturday</td>\n",
       "      <td>January</td>\n",
       "    </tr>\n",
       "    <tr>\n",
       "      <th>...</th>\n",
       "      <td>...</td>\n",
       "      <td>...</td>\n",
       "      <td>...</td>\n",
       "      <td>...</td>\n",
       "      <td>...</td>\n",
       "      <td>...</td>\n",
       "      <td>...</td>\n",
       "      <td>...</td>\n",
       "      <td>...</td>\n",
       "      <td>...</td>\n",
       "      <td>...</td>\n",
       "      <td>...</td>\n",
       "      <td>...</td>\n",
       "      <td>...</td>\n",
       "    </tr>\n",
       "    <tr>\n",
       "      <th>10881</th>\n",
       "      <td>2012-12-19 19:00:00</td>\n",
       "      <td>Winter</td>\n",
       "      <td>0.0</td>\n",
       "      <td>1.0</td>\n",
       "      <td>Clear</td>\n",
       "      <td>15.580000</td>\n",
       "      <td>50.000000</td>\n",
       "      <td>26.002700</td>\n",
       "      <td>7</td>\n",
       "      <td>329</td>\n",
       "      <td>336</td>\n",
       "      <td>19</td>\n",
       "      <td>Wednesday</td>\n",
       "      <td>December</td>\n",
       "    </tr>\n",
       "    <tr>\n",
       "      <th>10882</th>\n",
       "      <td>2012-12-19 20:00:00</td>\n",
       "      <td>Winter</td>\n",
       "      <td>0.0</td>\n",
       "      <td>1.0</td>\n",
       "      <td>Clear</td>\n",
       "      <td>14.760000</td>\n",
       "      <td>61.948408</td>\n",
       "      <td>11.904669</td>\n",
       "      <td>10</td>\n",
       "      <td>231</td>\n",
       "      <td>241</td>\n",
       "      <td>20</td>\n",
       "      <td>Wednesday</td>\n",
       "      <td>December</td>\n",
       "    </tr>\n",
       "    <tr>\n",
       "      <th>10883</th>\n",
       "      <td>2012-12-19 21:00:00</td>\n",
       "      <td>Winter</td>\n",
       "      <td>0.0</td>\n",
       "      <td>1.0</td>\n",
       "      <td>Clear</td>\n",
       "      <td>13.940000</td>\n",
       "      <td>61.000000</td>\n",
       "      <td>15.001300</td>\n",
       "      <td>4</td>\n",
       "      <td>164</td>\n",
       "      <td>168</td>\n",
       "      <td>21</td>\n",
       "      <td>Wednesday</td>\n",
       "      <td>December</td>\n",
       "    </tr>\n",
       "    <tr>\n",
       "      <th>10884</th>\n",
       "      <td>2012-12-19 22:00:00</td>\n",
       "      <td>Winter</td>\n",
       "      <td>0.0</td>\n",
       "      <td>1.0</td>\n",
       "      <td>Clear</td>\n",
       "      <td>13.940000</td>\n",
       "      <td>61.948408</td>\n",
       "      <td>6.003200</td>\n",
       "      <td>12</td>\n",
       "      <td>117</td>\n",
       "      <td>129</td>\n",
       "      <td>22</td>\n",
       "      <td>Wednesday</td>\n",
       "      <td>December</td>\n",
       "    </tr>\n",
       "    <tr>\n",
       "      <th>10885</th>\n",
       "      <td>2012-12-19 23:00:00</td>\n",
       "      <td>Winter</td>\n",
       "      <td>0.0</td>\n",
       "      <td>1.0</td>\n",
       "      <td>Clear</td>\n",
       "      <td>13.120000</td>\n",
       "      <td>66.000000</td>\n",
       "      <td>8.998100</td>\n",
       "      <td>4</td>\n",
       "      <td>84</td>\n",
       "      <td>88</td>\n",
       "      <td>23</td>\n",
       "      <td>Wednesday</td>\n",
       "      <td>December</td>\n",
       "    </tr>\n",
       "  </tbody>\n",
       "</table>\n",
       "<p>10886 rows × 14 columns</p>\n",
       "</div>"
      ],
      "text/plain": [
       "                 datetime  season  holiday  workingday weather       temp  \\\n",
       "0     2011-01-01 00:00:00  Spring      0.0         0.0   Clear   9.840000   \n",
       "1     2011-01-01 01:00:00  Spring      0.0         0.0   Clear   9.020000   \n",
       "2     2011-01-01 02:00:00  Spring      0.0         0.0   Clear   9.020000   \n",
       "3     2011-01-01 03:00:00  Spring      0.0         0.0   Clear   9.840000   \n",
       "4     2011-01-01 04:00:00  Winter      0.0         0.0   Clear  20.317665   \n",
       "...                   ...     ...      ...         ...     ...        ...   \n",
       "10881 2012-12-19 19:00:00  Winter      0.0         1.0   Clear  15.580000   \n",
       "10882 2012-12-19 20:00:00  Winter      0.0         1.0   Clear  14.760000   \n",
       "10883 2012-12-19 21:00:00  Winter      0.0         1.0   Clear  13.940000   \n",
       "10884 2012-12-19 22:00:00  Winter      0.0         1.0   Clear  13.940000   \n",
       "10885 2012-12-19 23:00:00  Winter      0.0         1.0   Clear  13.120000   \n",
       "\n",
       "        humidity  windspeed  casual  registered  rented_bikes_count  hour  \\\n",
       "0      81.000000  11.904669       3          13                  16     0   \n",
       "1      80.000000   0.000000       8          32                  40     1   \n",
       "2      61.948408   0.000000       5          27                  32     2   \n",
       "3      75.000000   0.000000       3          10                  13     3   \n",
       "4      75.000000  11.904669       0           1                   1     4   \n",
       "...          ...        ...     ...         ...                 ...   ...   \n",
       "10881  50.000000  26.002700       7         329                 336    19   \n",
       "10882  61.948408  11.904669      10         231                 241    20   \n",
       "10883  61.000000  15.001300       4         164                 168    21   \n",
       "10884  61.948408   6.003200      12         117                 129    22   \n",
       "10885  66.000000   8.998100       4          84                  88    23   \n",
       "\n",
       "             day     month  \n",
       "0       Saturday   January  \n",
       "1       Saturday   January  \n",
       "2       Saturday   January  \n",
       "3       Saturday   January  \n",
       "4       Saturday   January  \n",
       "...          ...       ...  \n",
       "10881  Wednesday  December  \n",
       "10882  Wednesday  December  \n",
       "10883  Wednesday  December  \n",
       "10884  Wednesday  December  \n",
       "10885  Wednesday  December  \n",
       "\n",
       "[10886 rows x 14 columns]"
      ]
     },
     "execution_count": 45,
     "metadata": {},
     "output_type": "execute_result"
    }
   ],
   "source": [
    "df"
   ]
  },
  {
   "cell_type": "code",
   "execution_count": null,
   "id": "2acf8953",
   "metadata": {},
   "outputs": [],
   "source": []
  },
  {
   "cell_type": "code",
   "execution_count": 46,
   "id": "1a62040b",
   "metadata": {},
   "outputs": [
    {
     "data": {
      "text/plain": [
       "<AxesSubplot:>"
      ]
     },
     "execution_count": 46,
     "metadata": {},
     "output_type": "execute_result"
    },
    {
     "data": {
      "image/png": "[encoded data removed]",
      "text/plain": [
       "<Figure size 1080x360 with 2 Axes>"
      ]
     },
     "metadata": {
      "needs_background": "light"
     },
     "output_type": "display_data"
    }
   ],
   "source": [
    "# correlation between data and target\n",
    "plt.figure(figsize=(15,5))\n",
    "sns.heatmap(df.corr(), annot=True, cmap='coolwarm')"
   ]
  },
  {
   "cell_type": "code",
   "execution_count": 47,
   "id": "04e304f2",
   "metadata": {},
   "outputs": [],
   "source": [
    "# Remove unnecessary columns\n",
    "df.drop(columns=['datetime', 'casual', 'registered', 'holiday', 'workingday', 'season', 'windspeed'], inplace=True)"
   ]
  },
  {
   "cell_type": "code",
   "execution_count": 48,
   "id": "69b46f0a",
   "metadata": {},
   "outputs": [
    {
     "data": {
      "text/html": [
       "<div>\n",
       "<style scoped>\n",
       "    .dataframe tbody tr th:only-of-type {\n",
       "        vertical-align: middle;\n",
       "    }\n",
       "\n",
       "    .dataframe tbody tr th {\n",
       "        vertical-align: top;\n",
       "    }\n",
       "\n",
       "    .dataframe thead th {\n",
       "        text-align: right;\n",
       "    }\n",
       "</style>\n",
       "<table border=\"1\" class=\"dataframe\">\n",
       "  <thead>\n",
       "    <tr style=\"text-align: right;\">\n",
       "      <th></th>\n",
       "      <th>weather</th>\n",
       "      <th>temp</th>\n",
       "      <th>humidity</th>\n",
       "      <th>rented_bikes_count</th>\n",
       "      <th>hour</th>\n",
       "      <th>day</th>\n",
       "      <th>month</th>\n",
       "    </tr>\n",
       "  </thead>\n",
       "  <tbody>\n",
       "    <tr>\n",
       "      <th>0</th>\n",
       "      <td>Clear</td>\n",
       "      <td>9.840000</td>\n",
       "      <td>81.000000</td>\n",
       "      <td>16</td>\n",
       "      <td>0</td>\n",
       "      <td>Saturday</td>\n",
       "      <td>January</td>\n",
       "    </tr>\n",
       "    <tr>\n",
       "      <th>1</th>\n",
       "      <td>Clear</td>\n",
       "      <td>9.020000</td>\n",
       "      <td>80.000000</td>\n",
       "      <td>40</td>\n",
       "      <td>1</td>\n",
       "      <td>Saturday</td>\n",
       "      <td>January</td>\n",
       "    </tr>\n",
       "    <tr>\n",
       "      <th>2</th>\n",
       "      <td>Clear</td>\n",
       "      <td>9.020000</td>\n",
       "      <td>61.948408</td>\n",
       "      <td>32</td>\n",
       "      <td>2</td>\n",
       "      <td>Saturday</td>\n",
       "      <td>January</td>\n",
       "    </tr>\n",
       "    <tr>\n",
       "      <th>3</th>\n",
       "      <td>Clear</td>\n",
       "      <td>9.840000</td>\n",
       "      <td>75.000000</td>\n",
       "      <td>13</td>\n",
       "      <td>3</td>\n",
       "      <td>Saturday</td>\n",
       "      <td>January</td>\n",
       "    </tr>\n",
       "    <tr>\n",
       "      <th>4</th>\n",
       "      <td>Clear</td>\n",
       "      <td>20.317665</td>\n",
       "      <td>75.000000</td>\n",
       "      <td>1</td>\n",
       "      <td>4</td>\n",
       "      <td>Saturday</td>\n",
       "      <td>January</td>\n",
       "    </tr>\n",
       "  </tbody>\n",
       "</table>\n",
       "</div>"
      ],
      "text/plain": [
       "  weather       temp   humidity  rented_bikes_count  hour       day    month\n",
       "0   Clear   9.840000  81.000000                  16     0  Saturday  January\n",
       "1   Clear   9.020000  80.000000                  40     1  Saturday  January\n",
       "2   Clear   9.020000  61.948408                  32     2  Saturday  January\n",
       "3   Clear   9.840000  75.000000                  13     3  Saturday  January\n",
       "4   Clear  20.317665  75.000000                   1     4  Saturday  January"
      ]
     },
     "execution_count": 48,
     "metadata": {},
     "output_type": "execute_result"
    }
   ],
   "source": [
    "df.head()"
   ]
  },
  {
   "cell_type": "code",
   "execution_count": 49,
   "id": "9ed2bdf0",
   "metadata": {},
   "outputs": [
    {
     "data": {
      "text/plain": [
       "Text(0.5, 1.0, 'Distribution of rented_bikes_count')"
      ]
     },
     "execution_count": 49,
     "metadata": {},
     "output_type": "execute_result"
    },
    {
     "data": {
      "image/png": "[encoded data removed]",
      "text/plain": [
       "<Figure size 360x360 with 1 Axes>"
      ]
     },
     "metadata": {
      "needs_background": "light"
     },
     "output_type": "display_data"
    }
   ],
   "source": [
    "sns.displot(df['rented_bikes_count'], color='m')\n",
    "plt.title('Distribution of rented_bikes_count')"
   ]
  },
  {
   "cell_type": "markdown",
   "id": "48178e95",
   "metadata": {},
   "source": [
    "### Viualization numaric features with target feature"
   ]
  },
  {
   "cell_type": "code",
   "execution_count": 50,
   "id": "7b311755",
   "metadata": {},
   "outputs": [
    {
     "data": {
      "image/png": "[encoded data removed]",
      "text/plain": [
       "<Figure size 720x288 with 1 Axes>"
      ]
     },
     "metadata": {
      "needs_background": "light"
     },
     "output_type": "display_data"
    },
    {
     "data": {
      "image/png": "[encoded data removed]",
      "text/plain": [
       "<Figure size 720x288 with 1 Axes>"
      ]
     },
     "metadata": {
      "needs_background": "light"
     },
     "output_type": "display_data"
    }
   ],
   "source": [
    "for col in df[['temp', 'humidity']]:\n",
    "    plt.figure(figsize=(10,4))\n",
    "    sns.scatterplot(x=df[col], y=df['rented_bikes_count'])\n",
    "    plt.show()"
   ]
  },
  {
   "cell_type": "markdown",
   "id": "29e082f2",
   "metadata": {},
   "source": [
    "### Viualization categories features with target feature"
   ]
  },
  {
   "cell_type": "code",
   "execution_count": 51,
   "id": "b21f867d",
   "metadata": {
    "scrolled": false
   },
   "outputs": [
    {
     "name": "stdout",
     "output_type": "stream",
     "text": [
      "month \n",
      "\n",
      "June         912\n",
      "May          912\n",
      "December     912\n",
      "August       912\n",
      "July         912\n",
      "October      911\n",
      "November     911\n",
      "April        909\n",
      "September    909\n",
      "March        901\n",
      "February     901\n",
      "January      884\n",
      "Name: month, dtype: int64 \n",
      "\n"
     ]
    },
    {
     "data": {
      "image/png": "[encoded data removed]",
      "text/plain": [
       "<Figure size 1080x288 with 1 Axes>"
      ]
     },
     "metadata": {
      "needs_background": "light"
     },
     "output_type": "display_data"
    },
    {
     "name": "stdout",
     "output_type": "stream",
     "text": [
      "weather \n",
      "\n",
      "Clear    7933\n",
      "Mist     2259\n",
      "Rainy     693\n",
      "Snowy       1\n",
      "Name: weather, dtype: int64 \n",
      "\n"
     ]
    },
    {
     "data": {
      "image/png": "[encoded data removed]",
      "text/plain": [
       "<Figure size 1080x288 with 1 Axes>"
      ]
     },
     "metadata": {
      "needs_background": "light"
     },
     "output_type": "display_data"
    },
    {
     "name": "stdout",
     "output_type": "stream",
     "text": [
      "hour \n",
      "\n",
      "23    456\n",
      "20    456\n",
      "16    456\n",
      "15    456\n",
      "17    456\n",
      "22    456\n",
      "14    456\n",
      "18    456\n",
      "21    456\n",
      "19    456\n",
      "13    456\n",
      "12    456\n",
      "7     455\n",
      "6     455\n",
      "0     455\n",
      "8     455\n",
      "11    455\n",
      "10    455\n",
      "9     455\n",
      "1     454\n",
      "5     452\n",
      "2     448\n",
      "4     442\n",
      "3     433\n",
      "Name: hour, dtype: int64 \n",
      "\n"
     ]
    },
    {
     "data": {
      "image/png": "[encoded data removed]",
      "text/plain": [
       "<Figure size 1080x288 with 1 Axes>"
      ]
     },
     "metadata": {
      "needs_background": "light"
     },
     "output_type": "display_data"
    },
    {
     "name": "stdout",
     "output_type": "stream",
     "text": [
      "day \n",
      "\n",
      "Saturday     1584\n",
      "Sunday       1579\n",
      "Thursday     1553\n",
      "Monday       1551\n",
      "Wednesday    1551\n",
      "Tuesday      1539\n",
      "Friday       1529\n",
      "Name: day, dtype: int64 \n",
      "\n"
     ]
    },
    {
     "data": {
      "image/png": "[encoded data removed]",
      "text/plain": [
       "<Figure size 1080x288 with 1 Axes>"
      ]
     },
     "metadata": {
      "needs_background": "light"
     },
     "output_type": "display_data"
    }
   ],
   "source": [
    "for col in df[['month', 'weather', 'hour', 'day']]:    \n",
    "    print(col, '\\n')\n",
    "    plt.figure(figsize=(15,4))\n",
    "    print(df[col].value_counts(), '\\n')\n",
    "    sns.countplot(df[col])\n",
    "    plt.show()"
   ]
  },
  {
   "cell_type": "code",
   "execution_count": 52,
   "id": "df7bdd8f",
   "metadata": {},
   "outputs": [
    {
     "data": {
      "image/png": "[encoded data removed]",
      "text/plain": [
       "<Figure size 1080x288 with 1 Axes>"
      ]
     },
     "metadata": {
      "needs_background": "light"
     },
     "output_type": "display_data"
    },
    {
     "data": {
      "image/png": "[encoded data removed]",
      "text/plain": [
       "<Figure size 1080x288 with 1 Axes>"
      ]
     },
     "metadata": {
      "needs_background": "light"
     },
     "output_type": "display_data"
    },
    {
     "data": {
      "image/png": "[encoded data removed]",
      "text/plain": [
       "<Figure size 1080x288 with 1 Axes>"
      ]
     },
     "metadata": {
      "needs_background": "light"
     },
     "output_type": "display_data"
    },
    {
     "data": {
      "image/png": "[encoded data removed]",
      "text/plain": [
       "<Figure size 1080x288 with 1 Axes>"
      ]
     },
     "metadata": {
      "needs_background": "light"
     },
     "output_type": "display_data"
    }
   ],
   "source": [
    "for col in df[['month', 'weather', 'hour', 'day']]:    \n",
    "    plt.figure(figsize=(15,4))\n",
    "    sns.stripplot(x=df[col], y=df['rented_bikes_count'])\n",
    "    plt.show()"
   ]
  },
  {
   "cell_type": "code",
   "execution_count": 53,
   "id": "73e26668",
   "metadata": {},
   "outputs": [
    {
     "data": {
      "text/html": [
       "<div>\n",
       "<style scoped>\n",
       "    .dataframe tbody tr th:only-of-type {\n",
       "        vertical-align: middle;\n",
       "    }\n",
       "\n",
       "    .dataframe tbody tr th {\n",
       "        vertical-align: top;\n",
       "    }\n",
       "\n",
       "    .dataframe thead th {\n",
       "        text-align: right;\n",
       "    }\n",
       "</style>\n",
       "<table border=\"1\" class=\"dataframe\">\n",
       "  <thead>\n",
       "    <tr style=\"text-align: right;\">\n",
       "      <th></th>\n",
       "      <th>weather</th>\n",
       "      <th>temp</th>\n",
       "      <th>humidity</th>\n",
       "      <th>rented_bikes_count</th>\n",
       "      <th>hour</th>\n",
       "      <th>day</th>\n",
       "      <th>month</th>\n",
       "    </tr>\n",
       "  </thead>\n",
       "  <tbody>\n",
       "    <tr>\n",
       "      <th>0</th>\n",
       "      <td>Clear</td>\n",
       "      <td>9.840000</td>\n",
       "      <td>81.000000</td>\n",
       "      <td>16</td>\n",
       "      <td>0</td>\n",
       "      <td>Saturday</td>\n",
       "      <td>January</td>\n",
       "    </tr>\n",
       "    <tr>\n",
       "      <th>1</th>\n",
       "      <td>Clear</td>\n",
       "      <td>9.020000</td>\n",
       "      <td>80.000000</td>\n",
       "      <td>40</td>\n",
       "      <td>1</td>\n",
       "      <td>Saturday</td>\n",
       "      <td>January</td>\n",
       "    </tr>\n",
       "    <tr>\n",
       "      <th>2</th>\n",
       "      <td>Clear</td>\n",
       "      <td>9.020000</td>\n",
       "      <td>61.948408</td>\n",
       "      <td>32</td>\n",
       "      <td>2</td>\n",
       "      <td>Saturday</td>\n",
       "      <td>January</td>\n",
       "    </tr>\n",
       "    <tr>\n",
       "      <th>3</th>\n",
       "      <td>Clear</td>\n",
       "      <td>9.840000</td>\n",
       "      <td>75.000000</td>\n",
       "      <td>13</td>\n",
       "      <td>3</td>\n",
       "      <td>Saturday</td>\n",
       "      <td>January</td>\n",
       "    </tr>\n",
       "    <tr>\n",
       "      <th>4</th>\n",
       "      <td>Clear</td>\n",
       "      <td>20.317665</td>\n",
       "      <td>75.000000</td>\n",
       "      <td>1</td>\n",
       "      <td>4</td>\n",
       "      <td>Saturday</td>\n",
       "      <td>January</td>\n",
       "    </tr>\n",
       "  </tbody>\n",
       "</table>\n",
       "</div>"
      ],
      "text/plain": [
       "  weather       temp   humidity  rented_bikes_count  hour       day    month\n",
       "0   Clear   9.840000  81.000000                  16     0  Saturday  January\n",
       "1   Clear   9.020000  80.000000                  40     1  Saturday  January\n",
       "2   Clear   9.020000  61.948408                  32     2  Saturday  January\n",
       "3   Clear   9.840000  75.000000                  13     3  Saturday  January\n",
       "4   Clear  20.317665  75.000000                   1     4  Saturday  January"
      ]
     },
     "execution_count": 53,
     "metadata": {},
     "output_type": "execute_result"
    }
   ],
   "source": [
    "df.head()"
   ]
  },
  {
   "cell_type": "markdown",
   "id": "7cffde16",
   "metadata": {},
   "source": [
    "### Encoding data to train it"
   ]
  },
  {
   "cell_type": "code",
   "execution_count": 54,
   "id": "a3396a81",
   "metadata": {},
   "outputs": [],
   "source": [
    "df = pd.get_dummies(df, drop_first=True)"
   ]
  },
  {
   "cell_type": "code",
   "execution_count": 55,
   "id": "c8ad4e6f",
   "metadata": {},
   "outputs": [
    {
     "data": {
      "text/html": [
       "<div>\n",
       "<style scoped>\n",
       "    .dataframe tbody tr th:only-of-type {\n",
       "        vertical-align: middle;\n",
       "    }\n",
       "\n",
       "    .dataframe tbody tr th {\n",
       "        vertical-align: top;\n",
       "    }\n",
       "\n",
       "    .dataframe thead th {\n",
       "        text-align: right;\n",
       "    }\n",
       "</style>\n",
       "<table border=\"1\" class=\"dataframe\">\n",
       "  <thead>\n",
       "    <tr style=\"text-align: right;\">\n",
       "      <th></th>\n",
       "      <th>temp</th>\n",
       "      <th>humidity</th>\n",
       "      <th>rented_bikes_count</th>\n",
       "      <th>hour</th>\n",
       "      <th>weather_Mist</th>\n",
       "      <th>weather_Rainy</th>\n",
       "      <th>weather_Snowy</th>\n",
       "      <th>day_Monday</th>\n",
       "      <th>day_Saturday</th>\n",
       "      <th>day_Sunday</th>\n",
       "      <th>...</th>\n",
       "      <th>month_December</th>\n",
       "      <th>month_February</th>\n",
       "      <th>month_January</th>\n",
       "      <th>month_July</th>\n",
       "      <th>month_June</th>\n",
       "      <th>month_March</th>\n",
       "      <th>month_May</th>\n",
       "      <th>month_November</th>\n",
       "      <th>month_October</th>\n",
       "      <th>month_September</th>\n",
       "    </tr>\n",
       "  </thead>\n",
       "  <tbody>\n",
       "    <tr>\n",
       "      <th>0</th>\n",
       "      <td>9.840000</td>\n",
       "      <td>81.000000</td>\n",
       "      <td>16</td>\n",
       "      <td>0</td>\n",
       "      <td>0</td>\n",
       "      <td>0</td>\n",
       "      <td>0</td>\n",
       "      <td>0</td>\n",
       "      <td>1</td>\n",
       "      <td>0</td>\n",
       "      <td>...</td>\n",
       "      <td>0</td>\n",
       "      <td>0</td>\n",
       "      <td>1</td>\n",
       "      <td>0</td>\n",
       "      <td>0</td>\n",
       "      <td>0</td>\n",
       "      <td>0</td>\n",
       "      <td>0</td>\n",
       "      <td>0</td>\n",
       "      <td>0</td>\n",
       "    </tr>\n",
       "    <tr>\n",
       "      <th>1</th>\n",
       "      <td>9.020000</td>\n",
       "      <td>80.000000</td>\n",
       "      <td>40</td>\n",
       "      <td>1</td>\n",
       "      <td>0</td>\n",
       "      <td>0</td>\n",
       "      <td>0</td>\n",
       "      <td>0</td>\n",
       "      <td>1</td>\n",
       "      <td>0</td>\n",
       "      <td>...</td>\n",
       "      <td>0</td>\n",
       "      <td>0</td>\n",
       "      <td>1</td>\n",
       "      <td>0</td>\n",
       "      <td>0</td>\n",
       "      <td>0</td>\n",
       "      <td>0</td>\n",
       "      <td>0</td>\n",
       "      <td>0</td>\n",
       "      <td>0</td>\n",
       "    </tr>\n",
       "    <tr>\n",
       "      <th>2</th>\n",
       "      <td>9.020000</td>\n",
       "      <td>61.948408</td>\n",
       "      <td>32</td>\n",
       "      <td>2</td>\n",
       "      <td>0</td>\n",
       "      <td>0</td>\n",
       "      <td>0</td>\n",
       "      <td>0</td>\n",
       "      <td>1</td>\n",
       "      <td>0</td>\n",
       "      <td>...</td>\n",
       "      <td>0</td>\n",
       "      <td>0</td>\n",
       "      <td>1</td>\n",
       "      <td>0</td>\n",
       "      <td>0</td>\n",
       "      <td>0</td>\n",
       "      <td>0</td>\n",
       "      <td>0</td>\n",
       "      <td>0</td>\n",
       "      <td>0</td>\n",
       "    </tr>\n",
       "    <tr>\n",
       "      <th>3</th>\n",
       "      <td>9.840000</td>\n",
       "      <td>75.000000</td>\n",
       "      <td>13</td>\n",
       "      <td>3</td>\n",
       "      <td>0</td>\n",
       "      <td>0</td>\n",
       "      <td>0</td>\n",
       "      <td>0</td>\n",
       "      <td>1</td>\n",
       "      <td>0</td>\n",
       "      <td>...</td>\n",
       "      <td>0</td>\n",
       "      <td>0</td>\n",
       "      <td>1</td>\n",
       "      <td>0</td>\n",
       "      <td>0</td>\n",
       "      <td>0</td>\n",
       "      <td>0</td>\n",
       "      <td>0</td>\n",
       "      <td>0</td>\n",
       "      <td>0</td>\n",
       "    </tr>\n",
       "    <tr>\n",
       "      <th>4</th>\n",
       "      <td>20.317665</td>\n",
       "      <td>75.000000</td>\n",
       "      <td>1</td>\n",
       "      <td>4</td>\n",
       "      <td>0</td>\n",
       "      <td>0</td>\n",
       "      <td>0</td>\n",
       "      <td>0</td>\n",
       "      <td>1</td>\n",
       "      <td>0</td>\n",
       "      <td>...</td>\n",
       "      <td>0</td>\n",
       "      <td>0</td>\n",
       "      <td>1</td>\n",
       "      <td>0</td>\n",
       "      <td>0</td>\n",
       "      <td>0</td>\n",
       "      <td>0</td>\n",
       "      <td>0</td>\n",
       "      <td>0</td>\n",
       "      <td>0</td>\n",
       "    </tr>\n",
       "    <tr>\n",
       "      <th>...</th>\n",
       "      <td>...</td>\n",
       "      <td>...</td>\n",
       "      <td>...</td>\n",
       "      <td>...</td>\n",
       "      <td>...</td>\n",
       "      <td>...</td>\n",
       "      <td>...</td>\n",
       "      <td>...</td>\n",
       "      <td>...</td>\n",
       "      <td>...</td>\n",
       "      <td>...</td>\n",
       "      <td>...</td>\n",
       "      <td>...</td>\n",
       "      <td>...</td>\n",
       "      <td>...</td>\n",
       "      <td>...</td>\n",
       "      <td>...</td>\n",
       "      <td>...</td>\n",
       "      <td>...</td>\n",
       "      <td>...</td>\n",
       "      <td>...</td>\n",
       "    </tr>\n",
       "    <tr>\n",
       "      <th>10881</th>\n",
       "      <td>15.580000</td>\n",
       "      <td>50.000000</td>\n",
       "      <td>336</td>\n",
       "      <td>19</td>\n",
       "      <td>0</td>\n",
       "      <td>0</td>\n",
       "      <td>0</td>\n",
       "      <td>0</td>\n",
       "      <td>0</td>\n",
       "      <td>0</td>\n",
       "      <td>...</td>\n",
       "      <td>1</td>\n",
       "      <td>0</td>\n",
       "      <td>0</td>\n",
       "      <td>0</td>\n",
       "      <td>0</td>\n",
       "      <td>0</td>\n",
       "      <td>0</td>\n",
       "      <td>0</td>\n",
       "      <td>0</td>\n",
       "      <td>0</td>\n",
       "    </tr>\n",
       "    <tr>\n",
       "      <th>10882</th>\n",
       "      <td>14.760000</td>\n",
       "      <td>61.948408</td>\n",
       "      <td>241</td>\n",
       "      <td>20</td>\n",
       "      <td>0</td>\n",
       "      <td>0</td>\n",
       "      <td>0</td>\n",
       "      <td>0</td>\n",
       "      <td>0</td>\n",
       "      <td>0</td>\n",
       "      <td>...</td>\n",
       "      <td>1</td>\n",
       "      <td>0</td>\n",
       "      <td>0</td>\n",
       "      <td>0</td>\n",
       "      <td>0</td>\n",
       "      <td>0</td>\n",
       "      <td>0</td>\n",
       "      <td>0</td>\n",
       "      <td>0</td>\n",
       "      <td>0</td>\n",
       "    </tr>\n",
       "    <tr>\n",
       "      <th>10883</th>\n",
       "      <td>13.940000</td>\n",
       "      <td>61.000000</td>\n",
       "      <td>168</td>\n",
       "      <td>21</td>\n",
       "      <td>0</td>\n",
       "      <td>0</td>\n",
       "      <td>0</td>\n",
       "      <td>0</td>\n",
       "      <td>0</td>\n",
       "      <td>0</td>\n",
       "      <td>...</td>\n",
       "      <td>1</td>\n",
       "      <td>0</td>\n",
       "      <td>0</td>\n",
       "      <td>0</td>\n",
       "      <td>0</td>\n",
       "      <td>0</td>\n",
       "      <td>0</td>\n",
       "      <td>0</td>\n",
       "      <td>0</td>\n",
       "      <td>0</td>\n",
       "    </tr>\n",
       "    <tr>\n",
       "      <th>10884</th>\n",
       "      <td>13.940000</td>\n",
       "      <td>61.948408</td>\n",
       "      <td>129</td>\n",
       "      <td>22</td>\n",
       "      <td>0</td>\n",
       "      <td>0</td>\n",
       "      <td>0</td>\n",
       "      <td>0</td>\n",
       "      <td>0</td>\n",
       "      <td>0</td>\n",
       "      <td>...</td>\n",
       "      <td>1</td>\n",
       "      <td>0</td>\n",
       "      <td>0</td>\n",
       "      <td>0</td>\n",
       "      <td>0</td>\n",
       "      <td>0</td>\n",
       "      <td>0</td>\n",
       "      <td>0</td>\n",
       "      <td>0</td>\n",
       "      <td>0</td>\n",
       "    </tr>\n",
       "    <tr>\n",
       "      <th>10885</th>\n",
       "      <td>13.120000</td>\n",
       "      <td>66.000000</td>\n",
       "      <td>88</td>\n",
       "      <td>23</td>\n",
       "      <td>0</td>\n",
       "      <td>0</td>\n",
       "      <td>0</td>\n",
       "      <td>0</td>\n",
       "      <td>0</td>\n",
       "      <td>0</td>\n",
       "      <td>...</td>\n",
       "      <td>1</td>\n",
       "      <td>0</td>\n",
       "      <td>0</td>\n",
       "      <td>0</td>\n",
       "      <td>0</td>\n",
       "      <td>0</td>\n",
       "      <td>0</td>\n",
       "      <td>0</td>\n",
       "      <td>0</td>\n",
       "      <td>0</td>\n",
       "    </tr>\n",
       "  </tbody>\n",
       "</table>\n",
       "<p>10886 rows × 24 columns</p>\n",
       "</div>"
      ],
      "text/plain": [
       "            temp   humidity  rented_bikes_count  hour  weather_Mist  \\\n",
       "0       9.840000  81.000000                  16     0             0   \n",
       "1       9.020000  80.000000                  40     1             0   \n",
       "2       9.020000  61.948408                  32     2             0   \n",
       "3       9.840000  75.000000                  13     3             0   \n",
       "4      20.317665  75.000000                   1     4             0   \n",
       "...          ...        ...                 ...   ...           ...   \n",
       "10881  15.580000  50.000000                 336    19             0   \n",
       "10882  14.760000  61.948408                 241    20             0   \n",
       "10883  13.940000  61.000000                 168    21             0   \n",
       "10884  13.940000  61.948408                 129    22             0   \n",
       "10885  13.120000  66.000000                  88    23             0   \n",
       "\n",
       "       weather_Rainy  weather_Snowy  day_Monday  day_Saturday  day_Sunday  \\\n",
       "0                  0              0           0             1           0   \n",
       "1                  0              0           0             1           0   \n",
       "2                  0              0           0             1           0   \n",
       "3                  0              0           0             1           0   \n",
       "4                  0              0           0             1           0   \n",
       "...              ...            ...         ...           ...         ...   \n",
       "10881              0              0           0             0           0   \n",
       "10882              0              0           0             0           0   \n",
       "10883              0              0           0             0           0   \n",
       "10884              0              0           0             0           0   \n",
       "10885              0              0           0             0           0   \n",
       "\n",
       "       ...  month_December  month_February  month_January  month_July  \\\n",
       "0      ...               0               0              1           0   \n",
       "1      ...               0               0              1           0   \n",
       "2      ...               0               0              1           0   \n",
       "3      ...               0               0              1           0   \n",
       "4      ...               0               0              1           0   \n",
       "...    ...             ...             ...            ...         ...   \n",
       "10881  ...               1               0              0           0   \n",
       "10882  ...               1               0              0           0   \n",
       "10883  ...               1               0              0           0   \n",
       "10884  ...               1               0              0           0   \n",
       "10885  ...               1               0              0           0   \n",
       "\n",
       "       month_June  month_March  month_May  month_November  month_October  \\\n",
       "0               0            0          0               0              0   \n",
       "1               0            0          0               0              0   \n",
       "2               0            0          0               0              0   \n",
       "3               0            0          0               0              0   \n",
       "4               0            0          0               0              0   \n",
       "...           ...          ...        ...             ...            ...   \n",
       "10881           0            0          0               0              0   \n",
       "10882           0            0          0               0              0   \n",
       "10883           0            0          0               0              0   \n",
       "10884           0            0          0               0              0   \n",
       "10885           0            0          0               0              0   \n",
       "\n",
       "       month_September  \n",
       "0                    0  \n",
       "1                    0  \n",
       "2                    0  \n",
       "3                    0  \n",
       "4                    0  \n",
       "...                ...  \n",
       "10881                0  \n",
       "10882                0  \n",
       "10883                0  \n",
       "10884                0  \n",
       "10885                0  \n",
       "\n",
       "[10886 rows x 24 columns]"
      ]
     },
     "execution_count": 55,
     "metadata": {},
     "output_type": "execute_result"
    }
   ],
   "source": [
    "df"
   ]
  },
  {
   "cell_type": "markdown",
   "id": "357faac8",
   "metadata": {},
   "source": [
    "### Split datat to build model machine learning"
   ]
  },
  {
   "cell_type": "code",
   "execution_count": 56,
   "id": "0b0f75dd",
   "metadata": {},
   "outputs": [],
   "source": [
    "x = df.drop('rented_bikes_count', axis=1) \n",
    "y = df['rented_bikes_count']"
   ]
  },
  {
   "cell_type": "code",
   "execution_count": 57,
   "id": "7136c7e3",
   "metadata": {},
   "outputs": [],
   "source": [
    "x_train, x_test, y_train, y_test = train_test_split(x, y, test_size=0.2, random_state=170)"
   ]
  },
  {
   "cell_type": "markdown",
   "id": "016b5abb",
   "metadata": {},
   "source": [
    "### Feature scaling to make features have same range"
   ]
  },
  {
   "cell_type": "code",
   "execution_count": 58,
   "id": "7ad0b684",
   "metadata": {},
   "outputs": [],
   "source": [
    "scaler = StandardScaler()\n",
    "scaler.fit(x_train)\n",
    "x_train = scaler.transform(x_train)\n",
    "x_test = scaler.transform(x_test)"
   ]
  },
  {
   "cell_type": "markdown",
   "id": "547489a9",
   "metadata": {},
   "source": [
    "### Build more than model and select the high performence technique"
   ]
  },
  {
   "cell_type": "code",
   "execution_count": 59,
   "id": "13635993",
   "metadata": {},
   "outputs": [],
   "source": [
    "models = {\n",
    "    \"LR\": LinearRegression(),\n",
    "    \"DT\": DecisionTreeRegressor(),\n",
    "    \"RF\": RandomForestRegressor(),\n",
    "    \"XGBR\": XGBRegressor(),\n",
    "    \"KNNR\" : KNeighborsRegressor(), \n",
    "    \"SVR\": SVR()\n",
    "}"
   ]
  },
  {
   "cell_type": "code",
   "execution_count": 60,
   "id": "a9ebd585",
   "metadata": {},
   "outputs": [
    {
     "name": "stdout",
     "output_type": "stream",
     "text": [
      "------------------------------\n",
      "Using model: LR\n",
      "Training Score: 0.3038868643005084\n",
      "Test Score: 0.3302198852526078\n",
      "------------------------------\n",
      "Using model: DT\n",
      "Training Score: 0.9974478638283064\n",
      "Test Score: 0.6550642263690338\n",
      "------------------------------\n",
      "Using model: RF\n",
      "Training Score: 0.9700763287267776\n",
      "Test Score: 0.819628691848943\n",
      "------------------------------\n",
      "Using model: XGBR\n",
      "Training Score: 0.91464624326327\n",
      "Test Score: 0.8449272939511392\n",
      "------------------------------\n",
      "Using model: KNNR\n",
      "Training Score: 0.6704623019362072\n",
      "Test Score: 0.48342139822273567\n",
      "------------------------------\n",
      "Using model: SVR\n",
      "Training Score: 0.1846317712616703\n",
      "Test Score: 0.20637694848047206\n"
     ]
    }
   ],
   "source": [
    "for name, model in models.items():\n",
    "    print('-'*30)\n",
    "    print(f'Using model: {name}')\n",
    "    \n",
    "    model.fit(x_train, y_train)\n",
    "    print(f'Training Score: {model.score(x_train, y_train)}')\n",
    "    \n",
    "    y_pred = model.predict(x_test)\n",
    "    print(f'Test Score: {r2_score(y_test, y_pred)}')  "
   ]
  },
  {
   "cell_type": "markdown",
   "id": "3450131b",
   "metadata": {},
   "source": [
    "### Choose XGBOOST to build web application..."
   ]
  },
  {
   "cell_type": "code",
   "execution_count": 61,
   "id": "4cd206c4",
   "metadata": {},
   "outputs": [
    {
     "name": "stdout",
     "output_type": "stream",
     "text": [
      "Training Score: 0.9127913106005994\n",
      "Test Score: 0.8453061442405809\n"
     ]
    }
   ],
   "source": [
    "x_train, x_test, y_train, y_test = train_test_split(x, y, test_size=0.2, random_state=170)\n",
    "scaler = StandardScaler()\n",
    "scaler.fit(x_train)\n",
    "x_train = scaler.transform(x_train)\n",
    "x_test = scaler.transform(x_test)\n",
    "\n",
    "xgb = XGBRegressor(n_estimators=200, max_depth=5)\n",
    "xgb.fit(x_train, y_train)\n",
    "print(f'Training Score: {xgb.score(x_train, y_train)}')\n",
    "\n",
    "y_pred = xgb.predict(x_test)\n",
    "print(f'Test Score: {xgb.score(x_test,y_test)}')  "
   ]
  },
  {
   "cell_type": "markdown",
   "id": "8ae56f5f",
   "metadata": {},
   "source": [
    "# Save model and scaler to use them in deployment phase"
   ]
  },
  {
   "cell_type": "code",
   "execution_count": 62,
   "id": "34538142",
   "metadata": {},
   "outputs": [],
   "source": [
    "import joblib"
   ]
  },
  {
   "cell_type": "code",
   "execution_count": 63,
   "id": "1e46d410",
   "metadata": {},
   "outputs": [],
   "source": [
    "# joblib.dump(xgb, 'model.h5')"
   ]
  },
  {
   "cell_type": "code",
   "execution_count": 64,
   "id": "99165771",
   "metadata": {},
   "outputs": [],
   "source": [
    "# joblib.dump(scaler, 'scaler.h5')"
   ]
  },
  {
   "cell_type": "code",
   "execution_count": null,
   "id": "a4fb61e4",
   "metadata": {},
   "outputs": [],
   "source": []
  },
  {
   "cell_type": "code",
   "execution_count": 65,
   "id": "ec1f7690",
   "metadata": {},
   "outputs": [
    {
     "data": {
      "text/plain": [
       "Index(['temp', 'humidity', 'hour', 'weather_Mist', 'weather_Rainy',\n",
       "       'weather_Snowy', 'day_Monday', 'day_Saturday', 'day_Sunday',\n",
       "       'day_Thursday', 'day_Tuesday', 'day_Wednesday', 'month_August',\n",
       "       'month_December', 'month_February', 'month_January', 'month_July',\n",
       "       'month_June', 'month_March', 'month_May', 'month_November',\n",
       "       'month_October', 'month_September'],\n",
       "      dtype='object')"
      ]
     },
     "execution_count": 65,
     "metadata": {},
     "output_type": "execute_result"
    }
   ],
   "source": [
    "x.columns"
   ]
  },
  {
   "cell_type": "code",
   "execution_count": 66,
   "id": "318294ef",
   "metadata": {},
   "outputs": [
    {
     "data": {
      "text/plain": [
       "23"
      ]
     },
     "execution_count": 66,
     "metadata": {},
     "output_type": "execute_result"
    }
   ],
   "source": [
    "len(x.columns)"
   ]
  },
  {
   "cell_type": "code",
   "execution_count": null,
   "id": "e81e70cc",
   "metadata": {},
   "outputs": [],
   "source": []
  }
 ],
 "metadata": {
  "kernelspec": {
   "display_name": "Python 3",
   "language": "python",
   "name": "python3"
  },
  "language_info": {
   "codemirror_mode": {
    "name": "ipython",
    "version": 3
   },
   "file_extension": ".py",
   "mimetype": "text/x-python",
   "name": "python",
   "nbconvert_exporter": "python",
   "pygments_lexer": "ipython3",
   "version": "3.8.8"
  }
 },
 "nbformat": 4,
 "nbformat_minor": 5
}
